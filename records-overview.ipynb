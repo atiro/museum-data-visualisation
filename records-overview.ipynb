{
 "cells": [
  {
   "cell_type": "code",
   "execution_count": 8,
   "id": "bc077a0d-3cac-4f63-8b00-fa6d878fe2a7",
   "metadata": {
    "editable": true,
    "slideshow": {
     "slide_type": ""
    },
    "tags": [
     "remove-cell"
    ]
   },
   "outputs": [],
   "source": [
    "import pandas as pd\n",
    "import altair as alt\n",
    "records_data = pd.read_csv(\"records-sub-stats-all.csv\")"
   ]
  },
  {
   "cell_type": "markdown",
   "id": "a64fb74f-a0bf-4f52-9bdd-e0dbe7856dbb",
   "metadata": {
    "editable": true,
    "slideshow": {
     "slide_type": ""
    },
    "tags": []
   },
   "source": [
    "# Records\n",
    "\n",
    "An overview of the artefacts that have been catalogued by an institution, indicated by the availability of \n",
    "catalogue records on their website (discovered via collection search or as reported on the website or annual report).\n"
   ]
  },
  {
   "cell_type": "markdown",
   "id": "f1549d2b-a13b-4f43-af89-284adda49bda",
   "metadata": {},
   "source": [
    "## Records by cataloguing type and precision"
   ]
  },
  {
   "cell_type": "code",
   "execution_count": 9,
   "id": "02993910-d83c-4a22-96ac-404d5091ad27",
   "metadata": {
    "editable": true,
    "slideshow": {
     "slide_type": ""
    },
    "tags": [
     "remove-input"
    ]
   },
   "outputs": [
    {
     "data": {
      "text/html": [
       "\n",
       "<style>\n",
       "  #altair-viz-bb20287e09dc40fe994e99dbf4278e13.vega-embed {\n",
       "    width: 100%;\n",
       "    display: flex;\n",
       "  }\n",
       "\n",
       "  #altair-viz-bb20287e09dc40fe994e99dbf4278e13.vega-embed details,\n",
       "  #altair-viz-bb20287e09dc40fe994e99dbf4278e13.vega-embed details summary {\n",
       "    position: relative;\n",
       "  }\n",
       "</style>\n",
       "<div id=\"altair-viz-bb20287e09dc40fe994e99dbf4278e13\"></div>\n",
       "<script type=\"text/javascript\">\n",
       "  var VEGA_DEBUG = (typeof VEGA_DEBUG == \"undefined\") ? {} : VEGA_DEBUG;\n",
       "  (function(spec, embedOpt){\n",
       "    let outputDiv = document.currentScript.previousElementSibling;\n",
       "    if (outputDiv.id !== \"altair-viz-bb20287e09dc40fe994e99dbf4278e13\") {\n",
       "      outputDiv = document.getElementById(\"altair-viz-bb20287e09dc40fe994e99dbf4278e13\");\n",
       "    }\n",
       "    const paths = {\n",
       "      \"vega\": \"https://cdn.jsdelivr.net/npm/vega@5?noext\",\n",
       "      \"vega-lib\": \"https://cdn.jsdelivr.net/npm/vega-lib?noext\",\n",
       "      \"vega-lite\": \"https://cdn.jsdelivr.net/npm/vega-lite@5.17.0?noext\",\n",
       "      \"vega-embed\": \"https://cdn.jsdelivr.net/npm/vega-embed@6?noext\",\n",
       "    };\n",
       "\n",
       "    function maybeLoadScript(lib, version) {\n",
       "      var key = `${lib.replace(\"-\", \"\")}_version`;\n",
       "      return (VEGA_DEBUG[key] == version) ?\n",
       "        Promise.resolve(paths[lib]) :\n",
       "        new Promise(function(resolve, reject) {\n",
       "          var s = document.createElement('script');\n",
       "          document.getElementsByTagName(\"head\")[0].appendChild(s);\n",
       "          s.async = true;\n",
       "          s.onload = () => {\n",
       "            VEGA_DEBUG[key] = version;\n",
       "            return resolve(paths[lib]);\n",
       "          };\n",
       "          s.onerror = () => reject(`Error loading script: ${paths[lib]}`);\n",
       "          s.src = paths[lib];\n",
       "        });\n",
       "    }\n",
       "\n",
       "    function showError(err) {\n",
       "      outputDiv.innerHTML = `<div class=\"error\" style=\"color:red;\">${err}</div>`;\n",
       "      throw err;\n",
       "    }\n",
       "\n",
       "    function displayChart(vegaEmbed) {\n",
       "      vegaEmbed(outputDiv, spec, embedOpt)\n",
       "        .catch(err => showError(`Javascript Error: ${err.message}<br>This usually means there's a typo in your chart specification. See the javascript console for the full traceback.`));\n",
       "    }\n",
       "\n",
       "    if(typeof define === \"function\" && define.amd) {\n",
       "      requirejs.config({paths});\n",
       "      require([\"vega-embed\"], displayChart, err => showError(`Error loading script: ${err.message}`));\n",
       "    } else {\n",
       "      maybeLoadScript(\"vega\", \"5\")\n",
       "        .then(() => maybeLoadScript(\"vega-lite\", \"5.17.0\"))\n",
       "        .then(() => maybeLoadScript(\"vega-embed\", \"6\"))\n",
       "        .catch(showError)\n",
       "        .then(() => displayChart(vegaEmbed));\n",
       "    }\n",
       "  })({\"config\": {\"view\": {\"continuousWidth\": 300, \"continuousHeight\": 300}, \"numberFormat\": \".2s\"}, \"data\": {\"name\": \"data-af7d0800904a60c2640209f5987a7442\"}, \"mark\": {\"type\": \"bar\"}, \"encoding\": {\"color\": {\"field\": \"institution\", \"legend\": {\"columns\": 4, \"orient\": \"bottom\"}, \"sort\": \"descending\", \"type\": \"nominal\"}, \"column\": {\"field\": \"precision\", \"type\": \"ordinal\"}, \"tooltip\": [{\"field\": \"institution\", \"type\": \"nominal\"}, {\"field\": \"record_count\", \"type\": \"quantitative\"}], \"x\": {\"field\": \"record_count\", \"type\": \"quantitative\"}, \"y\": {\"field\": \"type\", \"type\": \"nominal\"}}, \"resolve\": {\"scale\": {\"x\": \"independent\"}}, \"title\": {\"text\": \"Records by cataloguing type and precision\", \"anchor\": \"middle\"}, \"width\": 350, \"$schema\": \"https://vega.github.io/schema/vega-lite/v5.17.0.json\", \"datasets\": {\"data-af7d0800904a60c2640209f5987a7442\": [{\"institution\": \"Aberystwyth University School of Art Museum and Galleries\", \"subcollection\": \"Museum Collection\", \"sector\": \"university\", \"type\": \"museum\", \"topic\": \"mixed\", \"precision\": \"estimate\", \"record_count\": 15342}, {\"institution\": \"University of Cambridge\", \"subcollection\": \"Fitzwilliam Museum\", \"sector\": \"university\", \"type\": \"museum\", \"topic\": \"art\", \"precision\": \"estimate\", \"record_count\": 275225}, {\"institution\": \"Amgueddfa Cymru (National Museum Wales)\", \"subcollection\": \"Museum Collection\", \"sector\": \"national\", \"type\": \"museum\", \"topic\": \"mixed\", \"precision\": \"estimate\", \"record_count\": 593978}, {\"institution\": \"National Museums Northern Ireland\", \"subcollection\": \"Museum Collection\", \"sector\": \"national\", \"type\": \"museum\", \"topic\": \"mixed\", \"precision\": \"estimate\", \"record_count\": 46618}, {\"institution\": \"Diving Museum\", \"subcollection\": \"Museum Collection\", \"sector\": \"independent\", \"type\": \"museum\", \"topic\": \"maritime\", \"precision\": \"estimate\", \"record_count\": 8934}, {\"institution\": \"Ravenglass Railway Museum\", \"subcollection\": \"Museum Collection\", \"sector\": \"independent\", \"type\": \"museum\", \"topic\": \"transport\", \"precision\": \"estimate\", \"record_count\": 8195}, {\"institution\": \"Aberdeen Archives, Gallery and Museums\", \"subcollection\": \"Museum Collection\", \"sector\": \"regional\", \"type\": \"museum\", \"topic\": \"mixed\", \"precision\": \"estimate\", \"record_count\": 149515}, {\"institution\": \"Aldbourne Heritage Centre\", \"subcollection\": \"Museum Collection\", \"sector\": \"regional\", \"type\": \"museum\", \"topic\": \"heritage\", \"precision\": \"estimate\", \"record_count\": 3728}, {\"institution\": \"Armagh County Museum\", \"subcollection\": \"Museum Collection\", \"sector\": \"regional\", \"type\": \"museum\", \"topic\": \"heritage\", \"precision\": \"estimate\", \"record_count\": 14258}, {\"institution\": \"Jersey Heritage\", \"subcollection\": \"Museum Collection\", \"sector\": \"regional\", \"type\": \"museum\", \"topic\": \"heritage\", \"precision\": \"estimate\", \"record_count\": 219359}, {\"institution\": \"Leicester Museums and Galleries\", \"subcollection\": \"Museum Collection\", \"sector\": \"regional\", \"type\": \"museum\", \"topic\": \"heritage\", \"precision\": \"estimate\", \"record_count\": 20719}, {\"institution\": \"Loughborough Carillon Tower and War Memorial Museum\", \"subcollection\": \"Museum Collection\", \"sector\": \"regional\", \"type\": \"museum\", \"topic\": \"heritage\", \"precision\": \"estimate\", \"record_count\": 4266}, {\"institution\": \"Norfolk Museums\", \"subcollection\": \"Museum Collection\", \"sector\": \"regional\", \"type\": \"museum\", \"topic\": \"heritage\", \"precision\": \"estimate\", \"record_count\": 443754}, {\"institution\": \"Nottingham Museums\", \"subcollection\": \"Museum Collection\", \"sector\": \"regional\", \"type\": \"museum\", \"topic\": \"heritage\", \"precision\": \"estimate\", \"record_count\": 506639}, {\"institution\": \"Poole Museum\", \"subcollection\": \"Museum Collection\", \"sector\": \"regional\", \"type\": \"museum\", \"topic\": \"heritage\", \"precision\": \"estimate\", \"record_count\": 35171}, {\"institution\": \"Teign Heritage Centre\", \"subcollection\": \"Museum Collection\", \"sector\": \"regional\", \"type\": \"museum\", \"topic\": \"heritage\", \"precision\": \"estimate\", \"record_count\": 3324}, {\"institution\": \"Science Museum Group\", \"subcollection\": \"Museum Collection\", \"sector\": \"dcms\", \"type\": \"museum\", \"topic\": \"science\", \"precision\": \"estimate\", \"record_count\": 468063}]}}, {\"mode\": \"vega-lite\"});\n",
       "</script>"
      ],
      "text/plain": [
       "alt.Chart(...)"
      ]
     },
     "execution_count": 9,
     "metadata": {},
     "output_type": "execute_result"
    }
   ],
   "source": [
    "title = alt.TitleParams('Records by cataloguing type and precision', anchor='middle')\n",
    "alt.Chart(records_data, title=title).mark_bar().encode(\n",
    "    color=alt.Color('institution:N', sort='descending', legend=alt.Legend(orient='bottom',columns=4)),\n",
    "    column='precision:O',\n",
    "    x='record_count:Q',\n",
    "    tooltip=['institution', 'record_count'],\n",
    "    y='type:N',\n",
    ").properties(width=350).resolve_scale(x='independent').configure(numberFormat='.2s')"
   ]
  },
  {
   "cell_type": "markdown",
   "id": "5bc40033-abe3-48ba-a49e-dda1c5ad6544",
   "metadata": {},
   "source": [
    "## Records by topic and precision"
   ]
  },
  {
   "cell_type": "code",
   "execution_count": 10,
   "id": "885d9dc3-a582-4a0b-a2f8-223382d2b87c",
   "metadata": {
    "editable": true,
    "slideshow": {
     "slide_type": ""
    },
    "tags": [
     "hide-input",
     "remove-input"
    ]
   },
   "outputs": [
    {
     "data": {
      "text/html": [
       "\n",
       "<style>\n",
       "  #altair-viz-b5315bbccee441709ed4ca6ed0eaa80e.vega-embed {\n",
       "    width: 100%;\n",
       "    display: flex;\n",
       "  }\n",
       "\n",
       "  #altair-viz-b5315bbccee441709ed4ca6ed0eaa80e.vega-embed details,\n",
       "  #altair-viz-b5315bbccee441709ed4ca6ed0eaa80e.vega-embed details summary {\n",
       "    position: relative;\n",
       "  }\n",
       "</style>\n",
       "<div id=\"altair-viz-b5315bbccee441709ed4ca6ed0eaa80e\"></div>\n",
       "<script type=\"text/javascript\">\n",
       "  var VEGA_DEBUG = (typeof VEGA_DEBUG == \"undefined\") ? {} : VEGA_DEBUG;\n",
       "  (function(spec, embedOpt){\n",
       "    let outputDiv = document.currentScript.previousElementSibling;\n",
       "    if (outputDiv.id !== \"altair-viz-b5315bbccee441709ed4ca6ed0eaa80e\") {\n",
       "      outputDiv = document.getElementById(\"altair-viz-b5315bbccee441709ed4ca6ed0eaa80e\");\n",
       "    }\n",
       "    const paths = {\n",
       "      \"vega\": \"https://cdn.jsdelivr.net/npm/vega@5?noext\",\n",
       "      \"vega-lib\": \"https://cdn.jsdelivr.net/npm/vega-lib?noext\",\n",
       "      \"vega-lite\": \"https://cdn.jsdelivr.net/npm/vega-lite@5.17.0?noext\",\n",
       "      \"vega-embed\": \"https://cdn.jsdelivr.net/npm/vega-embed@6?noext\",\n",
       "    };\n",
       "\n",
       "    function maybeLoadScript(lib, version) {\n",
       "      var key = `${lib.replace(\"-\", \"\")}_version`;\n",
       "      return (VEGA_DEBUG[key] == version) ?\n",
       "        Promise.resolve(paths[lib]) :\n",
       "        new Promise(function(resolve, reject) {\n",
       "          var s = document.createElement('script');\n",
       "          document.getElementsByTagName(\"head\")[0].appendChild(s);\n",
       "          s.async = true;\n",
       "          s.onload = () => {\n",
       "            VEGA_DEBUG[key] = version;\n",
       "            return resolve(paths[lib]);\n",
       "          };\n",
       "          s.onerror = () => reject(`Error loading script: ${paths[lib]}`);\n",
       "          s.src = paths[lib];\n",
       "        });\n",
       "    }\n",
       "\n",
       "    function showError(err) {\n",
       "      outputDiv.innerHTML = `<div class=\"error\" style=\"color:red;\">${err}</div>`;\n",
       "      throw err;\n",
       "    }\n",
       "\n",
       "    function displayChart(vegaEmbed) {\n",
       "      vegaEmbed(outputDiv, spec, embedOpt)\n",
       "        .catch(err => showError(`Javascript Error: ${err.message}<br>This usually means there's a typo in your chart specification. See the javascript console for the full traceback.`));\n",
       "    }\n",
       "\n",
       "    if(typeof define === \"function\" && define.amd) {\n",
       "      requirejs.config({paths});\n",
       "      require([\"vega-embed\"], displayChart, err => showError(`Error loading script: ${err.message}`));\n",
       "    } else {\n",
       "      maybeLoadScript(\"vega\", \"5\")\n",
       "        .then(() => maybeLoadScript(\"vega-lite\", \"5.17.0\"))\n",
       "        .then(() => maybeLoadScript(\"vega-embed\", \"6\"))\n",
       "        .catch(showError)\n",
       "        .then(() => displayChart(vegaEmbed));\n",
       "    }\n",
       "  })({\"config\": {\"view\": {\"continuousWidth\": 300, \"continuousHeight\": 300}, \"numberFormat\": \".2s\"}, \"data\": {\"name\": \"data-af7d0800904a60c2640209f5987a7442\"}, \"mark\": {\"type\": \"bar\"}, \"encoding\": {\"color\": {\"field\": \"institution\", \"legend\": {\"columns\": 4, \"orient\": \"bottom\"}, \"sort\": \"descending\", \"type\": \"nominal\"}, \"column\": {\"field\": \"precision\", \"type\": \"ordinal\"}, \"tooltip\": [{\"field\": \"institution\", \"type\": \"nominal\"}, {\"field\": \"record_count\", \"type\": \"quantitative\"}], \"x\": {\"field\": \"record_count\", \"type\": \"quantitative\"}, \"y\": {\"field\": \"topic\", \"type\": \"nominal\"}}, \"resolve\": {\"scale\": {\"x\": \"independent\"}}, \"title\": {\"text\": \"Records by topic and precision\", \"anchor\": \"middle\"}, \"width\": 350, \"$schema\": \"https://vega.github.io/schema/vega-lite/v5.17.0.json\", \"datasets\": {\"data-af7d0800904a60c2640209f5987a7442\": [{\"institution\": \"Aberystwyth University School of Art Museum and Galleries\", \"subcollection\": \"Museum Collection\", \"sector\": \"university\", \"type\": \"museum\", \"topic\": \"mixed\", \"precision\": \"estimate\", \"record_count\": 15342}, {\"institution\": \"University of Cambridge\", \"subcollection\": \"Fitzwilliam Museum\", \"sector\": \"university\", \"type\": \"museum\", \"topic\": \"art\", \"precision\": \"estimate\", \"record_count\": 275225}, {\"institution\": \"Amgueddfa Cymru (National Museum Wales)\", \"subcollection\": \"Museum Collection\", \"sector\": \"national\", \"type\": \"museum\", \"topic\": \"mixed\", \"precision\": \"estimate\", \"record_count\": 593978}, {\"institution\": \"National Museums Northern Ireland\", \"subcollection\": \"Museum Collection\", \"sector\": \"national\", \"type\": \"museum\", \"topic\": \"mixed\", \"precision\": \"estimate\", \"record_count\": 46618}, {\"institution\": \"Diving Museum\", \"subcollection\": \"Museum Collection\", \"sector\": \"independent\", \"type\": \"museum\", \"topic\": \"maritime\", \"precision\": \"estimate\", \"record_count\": 8934}, {\"institution\": \"Ravenglass Railway Museum\", \"subcollection\": \"Museum Collection\", \"sector\": \"independent\", \"type\": \"museum\", \"topic\": \"transport\", \"precision\": \"estimate\", \"record_count\": 8195}, {\"institution\": \"Aberdeen Archives, Gallery and Museums\", \"subcollection\": \"Museum Collection\", \"sector\": \"regional\", \"type\": \"museum\", \"topic\": \"mixed\", \"precision\": \"estimate\", \"record_count\": 149515}, {\"institution\": \"Aldbourne Heritage Centre\", \"subcollection\": \"Museum Collection\", \"sector\": \"regional\", \"type\": \"museum\", \"topic\": \"heritage\", \"precision\": \"estimate\", \"record_count\": 3728}, {\"institution\": \"Armagh County Museum\", \"subcollection\": \"Museum Collection\", \"sector\": \"regional\", \"type\": \"museum\", \"topic\": \"heritage\", \"precision\": \"estimate\", \"record_count\": 14258}, {\"institution\": \"Jersey Heritage\", \"subcollection\": \"Museum Collection\", \"sector\": \"regional\", \"type\": \"museum\", \"topic\": \"heritage\", \"precision\": \"estimate\", \"record_count\": 219359}, {\"institution\": \"Leicester Museums and Galleries\", \"subcollection\": \"Museum Collection\", \"sector\": \"regional\", \"type\": \"museum\", \"topic\": \"heritage\", \"precision\": \"estimate\", \"record_count\": 20719}, {\"institution\": \"Loughborough Carillon Tower and War Memorial Museum\", \"subcollection\": \"Museum Collection\", \"sector\": \"regional\", \"type\": \"museum\", \"topic\": \"heritage\", \"precision\": \"estimate\", \"record_count\": 4266}, {\"institution\": \"Norfolk Museums\", \"subcollection\": \"Museum Collection\", \"sector\": \"regional\", \"type\": \"museum\", \"topic\": \"heritage\", \"precision\": \"estimate\", \"record_count\": 443754}, {\"institution\": \"Nottingham Museums\", \"subcollection\": \"Museum Collection\", \"sector\": \"regional\", \"type\": \"museum\", \"topic\": \"heritage\", \"precision\": \"estimate\", \"record_count\": 506639}, {\"institution\": \"Poole Museum\", \"subcollection\": \"Museum Collection\", \"sector\": \"regional\", \"type\": \"museum\", \"topic\": \"heritage\", \"precision\": \"estimate\", \"record_count\": 35171}, {\"institution\": \"Teign Heritage Centre\", \"subcollection\": \"Museum Collection\", \"sector\": \"regional\", \"type\": \"museum\", \"topic\": \"heritage\", \"precision\": \"estimate\", \"record_count\": 3324}, {\"institution\": \"Science Museum Group\", \"subcollection\": \"Museum Collection\", \"sector\": \"dcms\", \"type\": \"museum\", \"topic\": \"science\", \"precision\": \"estimate\", \"record_count\": 468063}]}}, {\"mode\": \"vega-lite\"});\n",
       "</script>"
      ],
      "text/plain": [
       "alt.Chart(...)"
      ]
     },
     "execution_count": 10,
     "metadata": {},
     "output_type": "execute_result"
    }
   ],
   "source": [
    "title = alt.TitleParams('Records by topic and precision', anchor='middle')\n",
    "alt.Chart(records_data, title=title).mark_bar().encode(\n",
    "    color=alt.Color('institution:N', sort='descending', legend=alt.Legend(orient='bottom',columns=4)),\n",
    "    column='precision:O',\n",
    "    x='record_count:Q',\n",
    "    tooltip=['institution', 'record_count'],\n",
    "    y='topic:N',\n",
    ").properties(width=350).resolve_scale(x='independent').configure(numberFormat='.2s')"
   ]
  },
  {
   "cell_type": "markdown",
   "id": "7e31a5bf-a92e-4d0a-b8cd-5fd9ec0c9b8a",
   "metadata": {},
   "source": [
    "## Record count by sector"
   ]
  },
  {
   "cell_type": "code",
   "execution_count": 11,
   "id": "7783232a-c1a5-4372-bc71-5f13c7e85d77",
   "metadata": {
    "editable": true,
    "slideshow": {
     "slide_type": ""
    },
    "tags": [
     "hide-input",
     "remove-input"
    ]
   },
   "outputs": [
    {
     "data": {
      "text/html": [
       "\n",
       "<style>\n",
       "  #altair-viz-c9ed3d08c7a243a0a33300ea65c1624b.vega-embed {\n",
       "    width: 100%;\n",
       "    display: flex;\n",
       "  }\n",
       "\n",
       "  #altair-viz-c9ed3d08c7a243a0a33300ea65c1624b.vega-embed details,\n",
       "  #altair-viz-c9ed3d08c7a243a0a33300ea65c1624b.vega-embed details summary {\n",
       "    position: relative;\n",
       "  }\n",
       "</style>\n",
       "<div id=\"altair-viz-c9ed3d08c7a243a0a33300ea65c1624b\"></div>\n",
       "<script type=\"text/javascript\">\n",
       "  var VEGA_DEBUG = (typeof VEGA_DEBUG == \"undefined\") ? {} : VEGA_DEBUG;\n",
       "  (function(spec, embedOpt){\n",
       "    let outputDiv = document.currentScript.previousElementSibling;\n",
       "    if (outputDiv.id !== \"altair-viz-c9ed3d08c7a243a0a33300ea65c1624b\") {\n",
       "      outputDiv = document.getElementById(\"altair-viz-c9ed3d08c7a243a0a33300ea65c1624b\");\n",
       "    }\n",
       "    const paths = {\n",
       "      \"vega\": \"https://cdn.jsdelivr.net/npm/vega@5?noext\",\n",
       "      \"vega-lib\": \"https://cdn.jsdelivr.net/npm/vega-lib?noext\",\n",
       "      \"vega-lite\": \"https://cdn.jsdelivr.net/npm/vega-lite@5.17.0?noext\",\n",
       "      \"vega-embed\": \"https://cdn.jsdelivr.net/npm/vega-embed@6?noext\",\n",
       "    };\n",
       "\n",
       "    function maybeLoadScript(lib, version) {\n",
       "      var key = `${lib.replace(\"-\", \"\")}_version`;\n",
       "      return (VEGA_DEBUG[key] == version) ?\n",
       "        Promise.resolve(paths[lib]) :\n",
       "        new Promise(function(resolve, reject) {\n",
       "          var s = document.createElement('script');\n",
       "          document.getElementsByTagName(\"head\")[0].appendChild(s);\n",
       "          s.async = true;\n",
       "          s.onload = () => {\n",
       "            VEGA_DEBUG[key] = version;\n",
       "            return resolve(paths[lib]);\n",
       "          };\n",
       "          s.onerror = () => reject(`Error loading script: ${paths[lib]}`);\n",
       "          s.src = paths[lib];\n",
       "        });\n",
       "    }\n",
       "\n",
       "    function showError(err) {\n",
       "      outputDiv.innerHTML = `<div class=\"error\" style=\"color:red;\">${err}</div>`;\n",
       "      throw err;\n",
       "    }\n",
       "\n",
       "    function displayChart(vegaEmbed) {\n",
       "      vegaEmbed(outputDiv, spec, embedOpt)\n",
       "        .catch(err => showError(`Javascript Error: ${err.message}<br>This usually means there's a typo in your chart specification. See the javascript console for the full traceback.`));\n",
       "    }\n",
       "\n",
       "    if(typeof define === \"function\" && define.amd) {\n",
       "      requirejs.config({paths});\n",
       "      require([\"vega-embed\"], displayChart, err => showError(`Error loading script: ${err.message}`));\n",
       "    } else {\n",
       "      maybeLoadScript(\"vega\", \"5\")\n",
       "        .then(() => maybeLoadScript(\"vega-lite\", \"5.17.0\"))\n",
       "        .then(() => maybeLoadScript(\"vega-embed\", \"6\"))\n",
       "        .catch(showError)\n",
       "        .then(() => displayChart(vegaEmbed));\n",
       "    }\n",
       "  })({\"config\": {\"view\": {\"continuousWidth\": 300, \"continuousHeight\": 300}, \"numberFormat\": \".2s\"}, \"data\": {\"name\": \"data-af7d0800904a60c2640209f5987a7442\"}, \"mark\": {\"type\": \"bar\"}, \"encoding\": {\"color\": {\"field\": \"institution\", \"legend\": {\"columns\": 4, \"orient\": \"bottom\"}, \"sort\": \"descending\", \"type\": \"nominal\"}, \"column\": {\"field\": \"precision\", \"type\": \"ordinal\"}, \"tooltip\": [{\"field\": \"institution\", \"type\": \"nominal\"}, {\"field\": \"record_count\", \"type\": \"quantitative\"}], \"x\": {\"field\": \"record_count\", \"type\": \"quantitative\"}, \"y\": {\"field\": \"sector\", \"type\": \"nominal\"}}, \"resolve\": {\"scale\": {\"x\": \"independent\"}}, \"title\": {\"text\": \"Records by sector and precision\", \"anchor\": \"middle\"}, \"width\": 300, \"$schema\": \"https://vega.github.io/schema/vega-lite/v5.17.0.json\", \"datasets\": {\"data-af7d0800904a60c2640209f5987a7442\": [{\"institution\": \"Aberystwyth University School of Art Museum and Galleries\", \"subcollection\": \"Museum Collection\", \"sector\": \"university\", \"type\": \"museum\", \"topic\": \"mixed\", \"precision\": \"estimate\", \"record_count\": 15342}, {\"institution\": \"University of Cambridge\", \"subcollection\": \"Fitzwilliam Museum\", \"sector\": \"university\", \"type\": \"museum\", \"topic\": \"art\", \"precision\": \"estimate\", \"record_count\": 275225}, {\"institution\": \"Amgueddfa Cymru (National Museum Wales)\", \"subcollection\": \"Museum Collection\", \"sector\": \"national\", \"type\": \"museum\", \"topic\": \"mixed\", \"precision\": \"estimate\", \"record_count\": 593978}, {\"institution\": \"National Museums Northern Ireland\", \"subcollection\": \"Museum Collection\", \"sector\": \"national\", \"type\": \"museum\", \"topic\": \"mixed\", \"precision\": \"estimate\", \"record_count\": 46618}, {\"institution\": \"Diving Museum\", \"subcollection\": \"Museum Collection\", \"sector\": \"independent\", \"type\": \"museum\", \"topic\": \"maritime\", \"precision\": \"estimate\", \"record_count\": 8934}, {\"institution\": \"Ravenglass Railway Museum\", \"subcollection\": \"Museum Collection\", \"sector\": \"independent\", \"type\": \"museum\", \"topic\": \"transport\", \"precision\": \"estimate\", \"record_count\": 8195}, {\"institution\": \"Aberdeen Archives, Gallery and Museums\", \"subcollection\": \"Museum Collection\", \"sector\": \"regional\", \"type\": \"museum\", \"topic\": \"mixed\", \"precision\": \"estimate\", \"record_count\": 149515}, {\"institution\": \"Aldbourne Heritage Centre\", \"subcollection\": \"Museum Collection\", \"sector\": \"regional\", \"type\": \"museum\", \"topic\": \"heritage\", \"precision\": \"estimate\", \"record_count\": 3728}, {\"institution\": \"Armagh County Museum\", \"subcollection\": \"Museum Collection\", \"sector\": \"regional\", \"type\": \"museum\", \"topic\": \"heritage\", \"precision\": \"estimate\", \"record_count\": 14258}, {\"institution\": \"Jersey Heritage\", \"subcollection\": \"Museum Collection\", \"sector\": \"regional\", \"type\": \"museum\", \"topic\": \"heritage\", \"precision\": \"estimate\", \"record_count\": 219359}, {\"institution\": \"Leicester Museums and Galleries\", \"subcollection\": \"Museum Collection\", \"sector\": \"regional\", \"type\": \"museum\", \"topic\": \"heritage\", \"precision\": \"estimate\", \"record_count\": 20719}, {\"institution\": \"Loughborough Carillon Tower and War Memorial Museum\", \"subcollection\": \"Museum Collection\", \"sector\": \"regional\", \"type\": \"museum\", \"topic\": \"heritage\", \"precision\": \"estimate\", \"record_count\": 4266}, {\"institution\": \"Norfolk Museums\", \"subcollection\": \"Museum Collection\", \"sector\": \"regional\", \"type\": \"museum\", \"topic\": \"heritage\", \"precision\": \"estimate\", \"record_count\": 443754}, {\"institution\": \"Nottingham Museums\", \"subcollection\": \"Museum Collection\", \"sector\": \"regional\", \"type\": \"museum\", \"topic\": \"heritage\", \"precision\": \"estimate\", \"record_count\": 506639}, {\"institution\": \"Poole Museum\", \"subcollection\": \"Museum Collection\", \"sector\": \"regional\", \"type\": \"museum\", \"topic\": \"heritage\", \"precision\": \"estimate\", \"record_count\": 35171}, {\"institution\": \"Teign Heritage Centre\", \"subcollection\": \"Museum Collection\", \"sector\": \"regional\", \"type\": \"museum\", \"topic\": \"heritage\", \"precision\": \"estimate\", \"record_count\": 3324}, {\"institution\": \"Science Museum Group\", \"subcollection\": \"Museum Collection\", \"sector\": \"dcms\", \"type\": \"museum\", \"topic\": \"science\", \"precision\": \"estimate\", \"record_count\": 468063}]}}, {\"mode\": \"vega-lite\"});\n",
       "</script>"
      ],
      "text/plain": [
       "alt.Chart(...)"
      ]
     },
     "execution_count": 11,
     "metadata": {},
     "output_type": "execute_result"
    }
   ],
   "source": [
    "\n",
    "title = alt.TitleParams('Records by sector and precision', anchor='middle')\n",
    "alt.Chart(records_data, title=title).mark_bar().encode(\n",
    "    column='precision:O',\n",
    "    x='record_count:Q',\n",
    "    tooltip=['institution', 'record_count'],\n",
    "    y='sector:N',\n",
    "    color=alt.Color('institution:N', sort='descending', legend=alt.Legend(orient='bottom',columns=4))\n",
    ").properties(width=300).resolve_scale(x='independent').configure(numberFormat='.2s')"
   ]
  },
  {
   "cell_type": "markdown",
   "id": "952dbcc9-7e66-4ab8-b82b-9baa195d6ae1",
   "metadata": {},
   "source": [
    "## Records by topic and precision"
   ]
  },
  {
   "cell_type": "code",
   "execution_count": 12,
   "id": "425fbafc-b7e0-4676-95f7-665e8f18f29c",
   "metadata": {
    "editable": true,
    "slideshow": {
     "slide_type": ""
    },
    "tags": [
     "hide-input",
     "remove-input"
    ]
   },
   "outputs": [
    {
     "data": {
      "text/html": [
       "\n",
       "<style>\n",
       "  #altair-viz-5ed1e713f25c4fdeaebdb37b6353e378.vega-embed {\n",
       "    width: 100%;\n",
       "    display: flex;\n",
       "  }\n",
       "\n",
       "  #altair-viz-5ed1e713f25c4fdeaebdb37b6353e378.vega-embed details,\n",
       "  #altair-viz-5ed1e713f25c4fdeaebdb37b6353e378.vega-embed details summary {\n",
       "    position: relative;\n",
       "  }\n",
       "</style>\n",
       "<div id=\"altair-viz-5ed1e713f25c4fdeaebdb37b6353e378\"></div>\n",
       "<script type=\"text/javascript\">\n",
       "  var VEGA_DEBUG = (typeof VEGA_DEBUG == \"undefined\") ? {} : VEGA_DEBUG;\n",
       "  (function(spec, embedOpt){\n",
       "    let outputDiv = document.currentScript.previousElementSibling;\n",
       "    if (outputDiv.id !== \"altair-viz-5ed1e713f25c4fdeaebdb37b6353e378\") {\n",
       "      outputDiv = document.getElementById(\"altair-viz-5ed1e713f25c4fdeaebdb37b6353e378\");\n",
       "    }\n",
       "    const paths = {\n",
       "      \"vega\": \"https://cdn.jsdelivr.net/npm/vega@5?noext\",\n",
       "      \"vega-lib\": \"https://cdn.jsdelivr.net/npm/vega-lib?noext\",\n",
       "      \"vega-lite\": \"https://cdn.jsdelivr.net/npm/vega-lite@5.17.0?noext\",\n",
       "      \"vega-embed\": \"https://cdn.jsdelivr.net/npm/vega-embed@6?noext\",\n",
       "    };\n",
       "\n",
       "    function maybeLoadScript(lib, version) {\n",
       "      var key = `${lib.replace(\"-\", \"\")}_version`;\n",
       "      return (VEGA_DEBUG[key] == version) ?\n",
       "        Promise.resolve(paths[lib]) :\n",
       "        new Promise(function(resolve, reject) {\n",
       "          var s = document.createElement('script');\n",
       "          document.getElementsByTagName(\"head\")[0].appendChild(s);\n",
       "          s.async = true;\n",
       "          s.onload = () => {\n",
       "            VEGA_DEBUG[key] = version;\n",
       "            return resolve(paths[lib]);\n",
       "          };\n",
       "          s.onerror = () => reject(`Error loading script: ${paths[lib]}`);\n",
       "          s.src = paths[lib];\n",
       "        });\n",
       "    }\n",
       "\n",
       "    function showError(err) {\n",
       "      outputDiv.innerHTML = `<div class=\"error\" style=\"color:red;\">${err}</div>`;\n",
       "      throw err;\n",
       "    }\n",
       "\n",
       "    function displayChart(vegaEmbed) {\n",
       "      vegaEmbed(outputDiv, spec, embedOpt)\n",
       "        .catch(err => showError(`Javascript Error: ${err.message}<br>This usually means there's a typo in your chart specification. See the javascript console for the full traceback.`));\n",
       "    }\n",
       "\n",
       "    if(typeof define === \"function\" && define.amd) {\n",
       "      requirejs.config({paths});\n",
       "      require([\"vega-embed\"], displayChart, err => showError(`Error loading script: ${err.message}`));\n",
       "    } else {\n",
       "      maybeLoadScript(\"vega\", \"5\")\n",
       "        .then(() => maybeLoadScript(\"vega-lite\", \"5.17.0\"))\n",
       "        .then(() => maybeLoadScript(\"vega-embed\", \"6\"))\n",
       "        .catch(showError)\n",
       "        .then(() => displayChart(vegaEmbed));\n",
       "    }\n",
       "  })({\"config\": {\"view\": {\"continuousWidth\": 300, \"continuousHeight\": 300}, \"numberFormat\": \".2s\"}, \"data\": {\"name\": \"data-af7d0800904a60c2640209f5987a7442\"}, \"mark\": {\"type\": \"bar\"}, \"encoding\": {\"color\": {\"field\": \"institution\", \"legend\": {\"columns\": 4, \"orient\": \"bottom\"}, \"sort\": \"descending\", \"type\": \"nominal\"}, \"column\": {\"field\": \"precision\", \"type\": \"ordinal\"}, \"tooltip\": [{\"field\": \"institution\", \"type\": \"nominal\"}, {\"field\": \"record_count\", \"type\": \"quantitative\"}], \"x\": {\"field\": \"record_count\", \"type\": \"quantitative\"}, \"y\": {\"field\": \"topic\", \"type\": \"nominal\"}}, \"resolve\": {\"scale\": {\"x\": \"independent\"}}, \"title\": {\"text\": \"Records by topic and precision\", \"anchor\": \"middle\"}, \"width\": 300, \"$schema\": \"https://vega.github.io/schema/vega-lite/v5.17.0.json\", \"datasets\": {\"data-af7d0800904a60c2640209f5987a7442\": [{\"institution\": \"Aberystwyth University School of Art Museum and Galleries\", \"subcollection\": \"Museum Collection\", \"sector\": \"university\", \"type\": \"museum\", \"topic\": \"mixed\", \"precision\": \"estimate\", \"record_count\": 15342}, {\"institution\": \"University of Cambridge\", \"subcollection\": \"Fitzwilliam Museum\", \"sector\": \"university\", \"type\": \"museum\", \"topic\": \"art\", \"precision\": \"estimate\", \"record_count\": 275225}, {\"institution\": \"Amgueddfa Cymru (National Museum Wales)\", \"subcollection\": \"Museum Collection\", \"sector\": \"national\", \"type\": \"museum\", \"topic\": \"mixed\", \"precision\": \"estimate\", \"record_count\": 593978}, {\"institution\": \"National Museums Northern Ireland\", \"subcollection\": \"Museum Collection\", \"sector\": \"national\", \"type\": \"museum\", \"topic\": \"mixed\", \"precision\": \"estimate\", \"record_count\": 46618}, {\"institution\": \"Diving Museum\", \"subcollection\": \"Museum Collection\", \"sector\": \"independent\", \"type\": \"museum\", \"topic\": \"maritime\", \"precision\": \"estimate\", \"record_count\": 8934}, {\"institution\": \"Ravenglass Railway Museum\", \"subcollection\": \"Museum Collection\", \"sector\": \"independent\", \"type\": \"museum\", \"topic\": \"transport\", \"precision\": \"estimate\", \"record_count\": 8195}, {\"institution\": \"Aberdeen Archives, Gallery and Museums\", \"subcollection\": \"Museum Collection\", \"sector\": \"regional\", \"type\": \"museum\", \"topic\": \"mixed\", \"precision\": \"estimate\", \"record_count\": 149515}, {\"institution\": \"Aldbourne Heritage Centre\", \"subcollection\": \"Museum Collection\", \"sector\": \"regional\", \"type\": \"museum\", \"topic\": \"heritage\", \"precision\": \"estimate\", \"record_count\": 3728}, {\"institution\": \"Armagh County Museum\", \"subcollection\": \"Museum Collection\", \"sector\": \"regional\", \"type\": \"museum\", \"topic\": \"heritage\", \"precision\": \"estimate\", \"record_count\": 14258}, {\"institution\": \"Jersey Heritage\", \"subcollection\": \"Museum Collection\", \"sector\": \"regional\", \"type\": \"museum\", \"topic\": \"heritage\", \"precision\": \"estimate\", \"record_count\": 219359}, {\"institution\": \"Leicester Museums and Galleries\", \"subcollection\": \"Museum Collection\", \"sector\": \"regional\", \"type\": \"museum\", \"topic\": \"heritage\", \"precision\": \"estimate\", \"record_count\": 20719}, {\"institution\": \"Loughborough Carillon Tower and War Memorial Museum\", \"subcollection\": \"Museum Collection\", \"sector\": \"regional\", \"type\": \"museum\", \"topic\": \"heritage\", \"precision\": \"estimate\", \"record_count\": 4266}, {\"institution\": \"Norfolk Museums\", \"subcollection\": \"Museum Collection\", \"sector\": \"regional\", \"type\": \"museum\", \"topic\": \"heritage\", \"precision\": \"estimate\", \"record_count\": 443754}, {\"institution\": \"Nottingham Museums\", \"subcollection\": \"Museum Collection\", \"sector\": \"regional\", \"type\": \"museum\", \"topic\": \"heritage\", \"precision\": \"estimate\", \"record_count\": 506639}, {\"institution\": \"Poole Museum\", \"subcollection\": \"Museum Collection\", \"sector\": \"regional\", \"type\": \"museum\", \"topic\": \"heritage\", \"precision\": \"estimate\", \"record_count\": 35171}, {\"institution\": \"Teign Heritage Centre\", \"subcollection\": \"Museum Collection\", \"sector\": \"regional\", \"type\": \"museum\", \"topic\": \"heritage\", \"precision\": \"estimate\", \"record_count\": 3324}, {\"institution\": \"Science Museum Group\", \"subcollection\": \"Museum Collection\", \"sector\": \"dcms\", \"type\": \"museum\", \"topic\": \"science\", \"precision\": \"estimate\", \"record_count\": 468063}]}}, {\"mode\": \"vega-lite\"});\n",
       "</script>"
      ],
      "text/plain": [
       "alt.Chart(...)"
      ]
     },
     "execution_count": 12,
     "metadata": {},
     "output_type": "execute_result"
    }
   ],
   "source": [
    "title = alt.TitleParams('Records by topic and precision', anchor='middle')\n",
    "alt.Chart(records_data, title=title).mark_bar().encode(\n",
    "    column='precision:O',\n",
    "    x='record_count:Q',\n",
    "    y='topic:N',\n",
    "    tooltip=['institution', 'record_count'],\n",
    "    color=alt.Color('institution:N', sort='descending', legend=alt.Legend(orient='bottom',columns=4))\n",
    ").properties(width=300).resolve_scale(x='independent').configure(numberFormat='.2s')"
   ]
  },
  {
   "cell_type": "markdown",
   "id": "bc9e20c2-2552-486f-b8f1-c974b3c22278",
   "metadata": {},
   "source": [
    "## Records by institution, cataloguing type and precision"
   ]
  },
  {
   "cell_type": "code",
   "execution_count": 13,
   "id": "dc69099f-9fb4-412b-bce8-7626b2fd43aa",
   "metadata": {
    "editable": true,
    "slideshow": {
     "slide_type": ""
    },
    "tags": [
     "hide-input",
     "remove-input"
    ]
   },
   "outputs": [
    {
     "data": {
      "text/html": [
       "\n",
       "<style>\n",
       "  #altair-viz-99ef11a4c4c84e7da9d479803dad93ab.vega-embed {\n",
       "    width: 100%;\n",
       "    display: flex;\n",
       "  }\n",
       "\n",
       "  #altair-viz-99ef11a4c4c84e7da9d479803dad93ab.vega-embed details,\n",
       "  #altair-viz-99ef11a4c4c84e7da9d479803dad93ab.vega-embed details summary {\n",
       "    position: relative;\n",
       "  }\n",
       "</style>\n",
       "<div id=\"altair-viz-99ef11a4c4c84e7da9d479803dad93ab\"></div>\n",
       "<script type=\"text/javascript\">\n",
       "  var VEGA_DEBUG = (typeof VEGA_DEBUG == \"undefined\") ? {} : VEGA_DEBUG;\n",
       "  (function(spec, embedOpt){\n",
       "    let outputDiv = document.currentScript.previousElementSibling;\n",
       "    if (outputDiv.id !== \"altair-viz-99ef11a4c4c84e7da9d479803dad93ab\") {\n",
       "      outputDiv = document.getElementById(\"altair-viz-99ef11a4c4c84e7da9d479803dad93ab\");\n",
       "    }\n",
       "    const paths = {\n",
       "      \"vega\": \"https://cdn.jsdelivr.net/npm/vega@5?noext\",\n",
       "      \"vega-lib\": \"https://cdn.jsdelivr.net/npm/vega-lib?noext\",\n",
       "      \"vega-lite\": \"https://cdn.jsdelivr.net/npm/vega-lite@5.17.0?noext\",\n",
       "      \"vega-embed\": \"https://cdn.jsdelivr.net/npm/vega-embed@6?noext\",\n",
       "    };\n",
       "\n",
       "    function maybeLoadScript(lib, version) {\n",
       "      var key = `${lib.replace(\"-\", \"\")}_version`;\n",
       "      return (VEGA_DEBUG[key] == version) ?\n",
       "        Promise.resolve(paths[lib]) :\n",
       "        new Promise(function(resolve, reject) {\n",
       "          var s = document.createElement('script');\n",
       "          document.getElementsByTagName(\"head\")[0].appendChild(s);\n",
       "          s.async = true;\n",
       "          s.onload = () => {\n",
       "            VEGA_DEBUG[key] = version;\n",
       "            return resolve(paths[lib]);\n",
       "          };\n",
       "          s.onerror = () => reject(`Error loading script: ${paths[lib]}`);\n",
       "          s.src = paths[lib];\n",
       "        });\n",
       "    }\n",
       "\n",
       "    function showError(err) {\n",
       "      outputDiv.innerHTML = `<div class=\"error\" style=\"color:red;\">${err}</div>`;\n",
       "      throw err;\n",
       "    }\n",
       "\n",
       "    function displayChart(vegaEmbed) {\n",
       "      vegaEmbed(outputDiv, spec, embedOpt)\n",
       "        .catch(err => showError(`Javascript Error: ${err.message}<br>This usually means there's a typo in your chart specification. See the javascript console for the full traceback.`));\n",
       "    }\n",
       "\n",
       "    if(typeof define === \"function\" && define.amd) {\n",
       "      requirejs.config({paths});\n",
       "      require([\"vega-embed\"], displayChart, err => showError(`Error loading script: ${err.message}`));\n",
       "    } else {\n",
       "      maybeLoadScript(\"vega\", \"5\")\n",
       "        .then(() => maybeLoadScript(\"vega-lite\", \"5.17.0\"))\n",
       "        .then(() => maybeLoadScript(\"vega-embed\", \"6\"))\n",
       "        .catch(showError)\n",
       "        .then(() => displayChart(vegaEmbed));\n",
       "    }\n",
       "  })({\"config\": {\"view\": {\"continuousWidth\": 300, \"continuousHeight\": 300}, \"numberFormat\": \".2s\"}, \"data\": {\"name\": \"data-af7d0800904a60c2640209f5987a7442\"}, \"mark\": {\"type\": \"bar\"}, \"encoding\": {\"color\": {\"field\": \"type\", \"legend\": {\"orient\": \"bottom\", \"titleOrient\": \"left\"}, \"title\": \"settings\", \"type\": \"nominal\"}, \"column\": {\"field\": \"type\", \"title\": \"Cataloguing\", \"type\": \"nominal\"}, \"row\": {\"field\": \"institution\", \"header\": {\"labelAngle\": 0, \"labelAlign\": \"left\"}, \"title\": \"Institution\", \"type\": \"nominal\"}, \"x\": {\"field\": \"record_count\", \"title\": null, \"type\": \"quantitative\"}, \"y\": {\"field\": \"precision\", \"title\": null, \"type\": \"nominal\"}}, \"height\": {\"step\": 8}, \"resolve\": {\"scale\": {\"x\": \"independent\"}}, \"title\": {\"text\": \"Records by institution, cataloguing type and precision\", \"anchor\": \"middle\"}, \"width\": 150, \"$schema\": \"https://vega.github.io/schema/vega-lite/v5.17.0.json\", \"datasets\": {\"data-af7d0800904a60c2640209f5987a7442\": [{\"institution\": \"Aberystwyth University School of Art Museum and Galleries\", \"subcollection\": \"Museum Collection\", \"sector\": \"university\", \"type\": \"museum\", \"topic\": \"mixed\", \"precision\": \"estimate\", \"record_count\": 15342}, {\"institution\": \"University of Cambridge\", \"subcollection\": \"Fitzwilliam Museum\", \"sector\": \"university\", \"type\": \"museum\", \"topic\": \"art\", \"precision\": \"estimate\", \"record_count\": 275225}, {\"institution\": \"Amgueddfa Cymru (National Museum Wales)\", \"subcollection\": \"Museum Collection\", \"sector\": \"national\", \"type\": \"museum\", \"topic\": \"mixed\", \"precision\": \"estimate\", \"record_count\": 593978}, {\"institution\": \"National Museums Northern Ireland\", \"subcollection\": \"Museum Collection\", \"sector\": \"national\", \"type\": \"museum\", \"topic\": \"mixed\", \"precision\": \"estimate\", \"record_count\": 46618}, {\"institution\": \"Diving Museum\", \"subcollection\": \"Museum Collection\", \"sector\": \"independent\", \"type\": \"museum\", \"topic\": \"maritime\", \"precision\": \"estimate\", \"record_count\": 8934}, {\"institution\": \"Ravenglass Railway Museum\", \"subcollection\": \"Museum Collection\", \"sector\": \"independent\", \"type\": \"museum\", \"topic\": \"transport\", \"precision\": \"estimate\", \"record_count\": 8195}, {\"institution\": \"Aberdeen Archives, Gallery and Museums\", \"subcollection\": \"Museum Collection\", \"sector\": \"regional\", \"type\": \"museum\", \"topic\": \"mixed\", \"precision\": \"estimate\", \"record_count\": 149515}, {\"institution\": \"Aldbourne Heritage Centre\", \"subcollection\": \"Museum Collection\", \"sector\": \"regional\", \"type\": \"museum\", \"topic\": \"heritage\", \"precision\": \"estimate\", \"record_count\": 3728}, {\"institution\": \"Armagh County Museum\", \"subcollection\": \"Museum Collection\", \"sector\": \"regional\", \"type\": \"museum\", \"topic\": \"heritage\", \"precision\": \"estimate\", \"record_count\": 14258}, {\"institution\": \"Jersey Heritage\", \"subcollection\": \"Museum Collection\", \"sector\": \"regional\", \"type\": \"museum\", \"topic\": \"heritage\", \"precision\": \"estimate\", \"record_count\": 219359}, {\"institution\": \"Leicester Museums and Galleries\", \"subcollection\": \"Museum Collection\", \"sector\": \"regional\", \"type\": \"museum\", \"topic\": \"heritage\", \"precision\": \"estimate\", \"record_count\": 20719}, {\"institution\": \"Loughborough Carillon Tower and War Memorial Museum\", \"subcollection\": \"Museum Collection\", \"sector\": \"regional\", \"type\": \"museum\", \"topic\": \"heritage\", \"precision\": \"estimate\", \"record_count\": 4266}, {\"institution\": \"Norfolk Museums\", \"subcollection\": \"Museum Collection\", \"sector\": \"regional\", \"type\": \"museum\", \"topic\": \"heritage\", \"precision\": \"estimate\", \"record_count\": 443754}, {\"institution\": \"Nottingham Museums\", \"subcollection\": \"Museum Collection\", \"sector\": \"regional\", \"type\": \"museum\", \"topic\": \"heritage\", \"precision\": \"estimate\", \"record_count\": 506639}, {\"institution\": \"Poole Museum\", \"subcollection\": \"Museum Collection\", \"sector\": \"regional\", \"type\": \"museum\", \"topic\": \"heritage\", \"precision\": \"estimate\", \"record_count\": 35171}, {\"institution\": \"Teign Heritage Centre\", \"subcollection\": \"Museum Collection\", \"sector\": \"regional\", \"type\": \"museum\", \"topic\": \"heritage\", \"precision\": \"estimate\", \"record_count\": 3324}, {\"institution\": \"Science Museum Group\", \"subcollection\": \"Museum Collection\", \"sector\": \"dcms\", \"type\": \"museum\", \"topic\": \"science\", \"precision\": \"estimate\", \"record_count\": 468063}]}}, {\"mode\": \"vega-lite\"});\n",
       "</script>"
      ],
      "text/plain": [
       "alt.Chart(...)"
      ]
     },
     "execution_count": 13,
     "metadata": {},
     "output_type": "execute_result"
    }
   ],
   "source": [
    "title = alt.TitleParams('Records by institution, cataloguing type and precision', anchor='middle')\n",
    "alt.Chart(records_data, width=150, title=title, height=alt.Step(8)).mark_bar().encode(\n",
    "    alt.Y(\"precision:N\").title(None),\n",
    "    alt.X(\"record_count:Q\").title(None),\n",
    "    alt.Color(\"type:N\").title(\"settings\").legend(orient=\"bottom\", titleOrient=\"left\"),\n",
    "    alt.Row(\"institution:N\").title(\"Institution\").header(labelAngle=0, labelAlign='left'),\n",
    "    alt.Column(\"type:N\").title(\"Cataloguing\"),\n",
    ").resolve_scale(x='independent').configure(numberFormat='.2s')"
   ]
  },
  {
   "cell_type": "code",
   "execution_count": null,
   "id": "4a4dc8bc-649c-46ec-9257-b2cfb5322ebe",
   "metadata": {},
   "outputs": [],
   "source": []
  }
 ],
 "metadata": {
  "kernelspec": {
   "display_name": "Python 3 (ipykernel)",
   "language": "python",
   "name": "python3"
  },
  "language_info": {
   "codemirror_mode": {
    "name": "ipython",
    "version": 3
   },
   "file_extension": ".py",
   "mimetype": "text/x-python",
   "name": "python",
   "nbconvert_exporter": "python",
   "pygments_lexer": "ipython3",
   "version": "3.9.18"
  }
 },
 "nbformat": 4,
 "nbformat_minor": 5
}
