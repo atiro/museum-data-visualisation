{
 "cells": [
  {
   "cell_type": "code",
   "execution_count": 2,
   "id": "bc077a0d-3cac-4f63-8b00-fa6d878fe2a7",
   "metadata": {
    "editable": true,
    "slideshow": {
     "slide_type": ""
    },
    "tags": [
     "remove-cell"
    ]
   },
   "outputs": [],
   "source": [
    "from vega import Vega\n",
    "import json\n",
    "import altair as alt\n",
    "\n",
    "import pandas as pd\n",
    "artefacts_df = pd.read_csv(\"records-institution-stats-type.csv\")\n",
    "artefacts_non_nature_df = artefacts_df.loc[artefacts_df['topic'] != 'nature']\n",
    "artefacts_museum_df = artefacts_df.loc[artefacts_df['type'] == 'museum']"
   ]
  },
  {
   "cell_type": "markdown",
   "id": "cc48806d-ed27-41a6-9d9f-4c8fe6e99d91",
   "metadata": {
    "editable": true,
    "slideshow": {
     "slide_type": ""
    },
    "tags": []
   },
   "source": [
    "# Overview\n",
    "\n",
    "*WORK IN PROGRESS - Updated Aug 2024*"
   ]
  },
  {
   "cell_type": "code",
   "execution_count": 3,
   "id": "a3854a1d-2e75-4372-a944-ab0a5e4f89ca",
   "metadata": {
    "editable": true,
    "slideshow": {
     "slide_type": ""
    },
    "tags": [
     "remove-cell"
    ]
   },
   "outputs": [],
   "source": [
    "from collections import Counter\n",
    "\n",
    "tree_totals = artefacts_df.groupby('type').sum(numeric_only=True)\n",
    "tree_structure = [ { \"id\": 1, \"name\": \"National Collection\" } ]\n",
    "tree_node_index = 2\n",
    "#tree_totals.columns\n",
    "parent_map = {}\n",
    "for row in tree_totals.iterrows():\n",
    "  parent_map[row[0]] = tree_node_index\n",
    "  tree_structure.append({\"id\": tree_node_index, \"name\": row[0], \n",
    "                         \"parent\": 1})\n",
    "  tree_node_index+= 1\n",
    "\n",
    "\n",
    "institution_type_index = Counter()\n",
    "for i, row in artefacts_df.iterrows():\n",
    "    tree_structure.append({\"id\": tree_node_index, \"name\": row[\"institution\"], \n",
    "                           \"size\": int(row[\"record_count\"]), \n",
    "                         \"parent\": parent_map[row['type']]})\n",
    "    institution_type_index[row[\"type\"]] += 1\n",
    "    tree_node_index+=1"
   ]
  },
  {
   "cell_type": "code",
   "execution_count": 22,
   "id": "00885d37-f02e-42c8-92dc-a1516bfc2ccf",
   "metadata": {
    "editable": true,
    "slideshow": {
     "slide_type": ""
    },
    "tags": [
     "remove-cell"
    ]
   },
   "outputs": [],
   "source": [
    "treemap_test_spec = f\"\"\"\n",
    "{{\n",
    "  \"$schema\": \"https://vega.github.io/schema/vega/v5.json\",\n",
    "  \"description\": \"An example of treemap layout for hierarchical data.\",\n",
    "  \"width\": 960,\n",
    "  \"height\": 600,\n",
    "  \"padding\": 2.5,\n",
    "  \"autosize\": \"none\",\n",
    "  \"signals\": [\n",
    "  ],\n",
    "  \"data\": [\n",
    "    {{\n",
    "      \"name\": \"tree\",\n",
    "      \"values\": {json.dumps(tree_structure)},\n",
    "      \"transform\": [\n",
    "        {{\"type\": \"stratify\", \"key\": \"id\", \"parentKey\": \"parent\"}},\n",
    "        {{\n",
    "          \"type\": \"treemap\",\n",
    "          \"field\": \"size\",\n",
    "          \"sort\": {{\"field\": \"value\"}},\n",
    "          \"round\": true,\n",
    "          \"method\": \"squarify\",\n",
    "          \"ratio\": 1.6,\n",
    "          \"size\": [{{\"signal\": \"width\"}}, {{\"signal\": \"height\"}}]\n",
    "        }}\n",
    "      ]\n",
    "    }},\n",
    "    {{\n",
    "      \"name\": \"nodes\",\n",
    "      \"source\": \"tree\",\n",
    "      \"transform\": [{{\"type\": \"filter\", \"expr\": \"datum.children\"}}]\n",
    "    }},\n",
    "    {{\n",
    "      \"name\": \"leaves\",\n",
    "      \"source\": \"tree\",\n",
    "      \"transform\": [{{\"type\": \"filter\", \"expr\": \"!datum.children\"}}]\n",
    "    }},\n",
    "    {{\n",
    "      \"name\": \"large-leaves\",\n",
    "      \"source\": \"tree\",\n",
    "      \"transform\": [{{\"type\": \"filter\", \"expr\": \"!datum.children && datum.size > 2500000\"}}]\n",
    "    }},\n",
    "    {{\n",
    "      \"name\": \"total\",\n",
    "      \"source\": \"tree\",\n",
    "      \"transform\": [{{\"type\": \"aggregate\", \"fields\": [\"size\"], \"ops\": [\"sum\"], \"as\": [\"totalsize\"]}}]\n",
    "      }},\n",
    "  {{\n",
    "      \"name\": \"percentages\",\n",
    "      \"source\": \"tree\",\n",
    "      \"transform\":  [\n",
    "      {{ \"type\": \"lookup\",\"from\": \"total\",\"key\": \"id\",\"fields\": [\"totalsize\"],\"values\": [\"totalsize\"]   }},\n",
    "      {{\"type\": \"formula\", \"expr\": \"datum.name + ' ' + format((datum.size/datum.totalsize), ',.1%')\", \"as\": \"nc_percent\"}}\n",
    "      ]\n",
    "    }}\n",
    "  ],\n",
    "  \"scales\": [\n",
    "    {{\n",
    "      \"name\": \"color\",\n",
    "      \"type\": \"ordinal\",\n",
    "      \"domain\": {{\"data\": \"nodes\", \"field\": \"name\"}},\n",
    "      \"range\": [\n",
    "        \"#3182bd\",\n",
    "        \"#6baed6\",\n",
    "        \"#9ecae1\",\n",
    "        \"#c6dbef\",\n",
    "        \"#e6550d\",\n",
    "        \"#fd8d3c\",\n",
    "        \"#fdae6b\",\n",
    "        \"#fdd0a2\",\n",
    "        \"#31a354\",\n",
    "        \"#74c476\",\n",
    "        \"#a1d99b\",\n",
    "        \"#c7e9c0\",\n",
    "        \"#756bb1\",\n",
    "        \"#9e9ac8\",\n",
    "        \"#bcbddc\",\n",
    "        \"#dadaeb\",\n",
    "        \"#636363\",\n",
    "        \"#969696\",\n",
    "        \"#bdbdbd\",\n",
    "        \"#d9d9d9\"\n",
    "      ]\n",
    "    }},\n",
    "    {{\n",
    "      \"name\": \"size\",\n",
    "      \"type\": \"ordinal\",\n",
    "      \"domain\": [0, 1, 2, 3],\n",
    "      \"range\": [0, 0, 0, 0]\n",
    "    }},\n",
    "    {{\n",
    "      \"name\": \"collection-size\",\n",
    "      \"type\": \"quantile\",\n",
    "      \"domain\": [0, 1000, 10000, 100000, 1000000, 2500000, 5000000, 20000000],\n",
    "      \"range\": [0, 0, 7, 12, 14, 16, 18, 20]\n",
    "    }},\n",
    "    {{\n",
    "      \"name\": \"opacity\",\n",
    "      \"type\": \"ordinal\",\n",
    "      \"domain\": [0, 1, 2, 3],\n",
    "      \"range\": [0, 0, 0.8, 1]\n",
    "    }}\n",
    "  ],\n",
    "  \"marks\": [\n",
    "    {{\n",
    "      \"type\": \"rect\",\n",
    "      \"from\": {{\"data\": \"nodes\"}},\n",
    "      \"interactive\": false,\n",
    "      \"encode\": {{\n",
    "        \"enter\": {{\"fill\": {{\"scale\": \"color\", \"field\": \"name\"}} }},\n",
    "        \"update\": {{\n",
    "          \"x\": {{\"field\": \"x0\"}},\n",
    "          \"y\": {{\"field\": \"y0\"}},\n",
    "          \"x2\": {{\"field\": \"x1\"}},\n",
    "          \"y2\": {{\"field\": \"y1\"}}\n",
    "        }}\n",
    "      }}\n",
    "    }},\n",
    "    {{\n",
    "      \"type\": \"rect\",\n",
    "      \"from\": {{\"data\": \"leaves\"}},\n",
    "      \"encode\": {{\n",
    "        \"enter\": {{\"stroke\": {{\"value\": \"#fff\"}},\n",
    "                  \"tooltip\": {{ \"field\": \"name\" }}\n",
    "        }},\n",
    "        \"update\": {{\n",
    "          \"x\": {{\"field\": \"x0\"}},\n",
    "          \"y\": {{\"field\": \"y0\"}},\n",
    "          \"x2\": {{\"field\": \"x1\"}},\n",
    "          \"y2\": {{\"field\": \"y1\"}},\n",
    "          \"fill\": {{\"value\": \"transparent\"}}\n",
    "        }},\n",
    "        \"hover\": {{\"fill\": {{\"value\": \"#efb118\"}} }}\n",
    "      }}\n",
    "    }},\n",
    "    {{\n",
    "      \"type\": \"text\",\n",
    "      \"from\": {{\"data\": \"nodes\"}},\n",
    "      \"interactive\": false,\n",
    "      \"encode\": {{\n",
    "        \"enter\": {{\n",
    "          \"font\": {{\"value\": \"Helvetica Neue, Arial\"}},\n",
    "          \"align\": {{\"value\": \"center\"}},\n",
    "          \"baseline\": {{\"value\": \"middle\"}},\n",
    "          \"fill\": {{\"value\": \"#000\"}},\n",
    "          \"text\": {{\"field\": \"name\"}},\n",
    "          \"fontSize\": {{\"scale\": \"size\", \"field\": \"depth\"}},\n",
    "          \"fillOpacity\": {{\"scale\": \"opacity\", \"field\": \"depth\"}}\n",
    "        }},\n",
    "        \"update\": {{\n",
    "          \"x\": {{\"signal\": \"0.5 * (datum.x0 + datum.x1)\"}},\n",
    "          \"y\": {{\"signal\": \"0.5 * (datum.y0 + datum.y1)\"}}\n",
    "        }}\n",
    "      }}\n",
    "    }},  \n",
    "    {{\n",
    "      \"type\": \"text\",\n",
    "      \"from\": {{\"data\": \"percentages\"}},\n",
    "      \"interactive\": false,\n",
    "      \"encode\": {{\n",
    "        \"enter\": {{\n",
    "          \"font\": {{\"value\": \"Helvetica Neue, Arial\"}},\n",
    "          \"align\": {{\"value\": \"center\"}},\n",
    "          \"baseline\": {{\"value\": \"middle\"}},\n",
    "          \"fill\": {{\"value\": \"#000\"}},\n",
    "          \"text\": {{\"field\": \"name\"}},\n",
    "          \"fontSize\": {{\"scale\": \"collection-size\", \"field\": \"size\"}},\n",
    "          \"fillOpacity\": {{\"scale\": \"opacity\", \"field\": \"depth\"}}\n",
    "        }},\n",
    "        \"update\": {{\n",
    "          \"x\": {{\"signal\": \"0.5 * (datum.x0 + datum.x1)\"}},\n",
    "          \"y\": {{\"signal\": \"0.46 * (datum.y0 + datum.y1)\"}},\n",
    "          \"text\": {{\"signal\": \"split(datum.nc_percent, ' ')\"}}\n",
    "        }}\n",
    "      }}\n",
    "    }}\n",
    "  ]\n",
    "}}\n",
    "\"\"\""
   ]
  },
  {
   "cell_type": "code",
   "execution_count": 23,
   "id": "ed20e217-b4ef-44e1-afb6-3fb8fa1811f1",
   "metadata": {
    "editable": true,
    "slideshow": {
     "slide_type": ""
    },
    "tags": [
     "remove-input"
    ]
   },
   "outputs": [
    {
     "data": {
      "application/vnd.vega.v5+json": {
       "$schema": "https://vega.github.io/schema/vega/v5.json",
       "autosize": "none",
       "data": [
        {
         "name": "tree",
         "transform": [
          {
           "key": "id",
           "parentKey": "parent",
           "type": "stratify"
          },
          {
           "field": "size",
           "method": "squarify",
           "ratio": 1.6,
           "round": true,
           "size": [
            {
             "signal": "width"
            },
            {
             "signal": "height"
            }
           ],
           "sort": {
            "field": "value"
           },
           "type": "treemap"
          }
         ],
         "values": [
          {
           "children": 5,
           "depth": 0,
           "id": 1,
           "name": "National Collection",
           "x0": 0,
           "x1": 960,
           "y0": 0,
           "y1": 600
          },
          {
           "children": 1,
           "depth": 1,
           "id": 2,
           "name": "archive",
           "parent": 1,
           "x0": 0,
           "x1": 960,
           "y0": 0,
           "y1": 0
          },
          {
           "children": 1,
           "depth": 1,
           "id": 3,
           "name": "library",
           "parent": 1,
           "x0": 0,
           "x1": 960,
           "y0": 0,
           "y1": 0
          },
          {
           "children": 4,
           "depth": 1,
           "id": 4,
           "name": "mixed",
           "parent": 1,
           "x0": 0,
           "x1": 960,
           "y0": 0,
           "y1": 0
          },
          {
           "children": 43,
           "depth": 1,
           "id": 5,
           "name": "museum",
           "parent": 1,
           "x0": 0,
           "x1": 960,
           "y0": 0,
           "y1": 600
          },
          {
           "children": 2,
           "depth": 1,
           "id": 6,
           "name": "university",
           "parent": 1,
           "x0": 0,
           "x1": 960,
           "y0": 0,
           "y1": 0
          },
          {
           "children": 0,
           "depth": 2,
           "id": 7,
           "name": "Aberystwyth University School of Art Museum and Galleries",
           "parent": 5,
           "size": 0,
           "x0": 0,
           "x1": 63,
           "y0": 0,
           "y1": 0
          },
          {
           "children": 0,
           "depth": 2,
           "id": 8,
           "name": "University of Cambridge",
           "parent": 5,
           "size": 275225,
           "x0": 63,
           "x1": 343,
           "y0": 344,
           "y1": 600
          },
          {
           "children": 0,
           "depth": 2,
           "id": 9,
           "name": "Amgueddfa Cymru (National Museum Wales)",
           "parent": 5,
           "size": 0,
           "x0": 0,
           "x1": 63,
           "y0": 0,
           "y1": 0
          },
          {
           "children": 0,
           "depth": 2,
           "id": 10,
           "name": "National Museums Northern Ireland",
           "parent": 5,
           "size": 46618,
           "x0": 0,
           "x1": 63,
           "y0": 407,
           "y1": 600
          },
          {
           "children": 0,
           "depth": 2,
           "id": 11,
           "name": "Diving Museum",
           "parent": 5,
           "size": 8934,
           "x0": 0,
           "x1": 63,
           "y0": 81,
           "y1": 118
          },
          {
           "children": 0,
           "depth": 2,
           "id": 12,
           "name": "Ravenglass Railway Museum",
           "parent": 5,
           "size": 8195,
           "x0": 0,
           "x1": 63,
           "y0": 47,
           "y1": 81
          },
          {
           "children": 0,
           "depth": 2,
           "id": 13,
           "name": "Aberdeen Archives, Gallery and Museums",
           "parent": 5,
           "size": 149515,
           "x0": 63,
           "x1": 343,
           "y0": 0,
           "y1": 139
          },
          {
           "children": 0,
           "depth": 2,
           "id": 14,
           "name": "Aldbourne Heritage Centre",
           "parent": 5,
           "size": 3728,
           "x0": 0,
           "x1": 63,
           "y0": 14,
           "y1": 29
          },
          {
           "children": 0,
           "depth": 2,
           "id": 15,
           "name": "Armagh County Museum",
           "parent": 5,
           "size": 14258,
           "x0": 0,
           "x1": 63,
           "y0": 118,
           "y1": 176
          },
          {
           "children": 0,
           "depth": 2,
           "id": 16,
           "name": "Jersey Heritage",
           "parent": 5,
           "size": 219359,
           "x0": 63,
           "x1": 343,
           "y0": 139,
           "y1": 344
          },
          {
           "children": 0,
           "depth": 2,
           "id": 17,
           "name": "Leicester Museums and Galleries",
           "parent": 5,
           "size": 20719,
           "x0": 0,
           "x1": 63,
           "y0": 176,
           "y1": 262
          },
          {
           "children": 0,
           "depth": 2,
           "id": 18,
           "name": "Loughborough Carillon Tower and War Memorial Museum",
           "parent": 5,
           "size": 4266,
           "x0": 0,
           "x1": 63,
           "y0": 29,
           "y1": 47
          },
          {
           "children": 0,
           "depth": 2,
           "id": 19,
           "name": "Norfolk Museums",
           "parent": 5,
           "size": 443754,
           "x0": 343,
           "x1": 740,
           "y0": 0,
           "y1": 292
          },
          {
           "children": 0,
           "depth": 2,
           "id": 20,
           "name": "Nottingham Museums",
           "parent": 5,
           "size": 506639,
           "x0": 740,
           "x1": 960,
           "y0": 0,
           "y1": 600
          },
          {
           "children": 0,
           "depth": 2,
           "id": 21,
           "name": "Poole Museum",
           "parent": 5,
           "size": 35171,
           "x0": 0,
           "x1": 63,
           "y0": 262,
           "y1": 407
          },
          {
           "children": 0,
           "depth": 2,
           "id": 22,
           "name": "Teign Heritage Centre",
           "parent": 5,
           "size": 3324,
           "x0": 0,
           "x1": 63,
           "y0": 0,
           "y1": 14
          },
          {
           "children": 0,
           "depth": 2,
           "id": 23,
           "name": "Science Museum Group",
           "parent": 5,
           "size": 468063,
           "x0": 343,
           "x1": 740,
           "y0": 292,
           "y1": 600
          },
          {
           "children": 0,
           "depth": 2,
           "id": 24,
           "name": "Aberystwyth University School of Art Museum and Galleries",
           "parent": 6,
           "size": 0,
           "x0": 0,
           "x1": 960,
           "y0": 0,
           "y1": 0
          },
          {
           "children": 0,
           "depth": 2,
           "id": 25,
           "name": "University of Cambridge",
           "parent": 3,
           "size": 0,
           "x0": 0,
           "x1": 960,
           "y0": 0,
           "y1": 0
          },
          {
           "children": 0,
           "depth": 2,
           "id": 26,
           "name": "Amgueddfa Cymru (National Museum Wales)",
           "parent": 5,
           "size": 0,
           "x0": 0,
           "x1": 63,
           "y0": 0,
           "y1": 0
          },
          {
           "children": 0,
           "depth": 2,
           "id": 27,
           "name": "National Museums Northern Ireland",
           "parent": 5,
           "size": 0,
           "x0": 0,
           "x1": 63,
           "y0": 0,
           "y1": 0
          },
          {
           "children": 0,
           "depth": 2,
           "id": 28,
           "name": "Diving Museum",
           "parent": 5,
           "size": 0,
           "x0": 0,
           "x1": 63,
           "y0": 0,
           "y1": 0
          },
          {
           "children": 0,
           "depth": 2,
           "id": 29,
           "name": "Ravenglass Railway Museum",
           "parent": 5,
           "size": 0,
           "x0": 0,
           "x1": 63,
           "y0": 0,
           "y1": 0
          },
          {
           "children": 0,
           "depth": 2,
           "id": 30,
           "name": "Aberdeen Archives, Gallery and Museums",
           "parent": 4,
           "size": 0,
           "x0": 0,
           "x1": 960,
           "y0": 0,
           "y1": 0
          },
          {
           "children": 0,
           "depth": 2,
           "id": 31,
           "name": "Aldbourne Heritage Centre",
           "parent": 4,
           "size": 0,
           "x0": 0,
           "x1": 960,
           "y0": 0,
           "y1": 0
          },
          {
           "children": 0,
           "depth": 2,
           "id": 32,
           "name": "Armagh County Museum",
           "parent": 5,
           "size": 0,
           "x0": 0,
           "x1": 63,
           "y0": 0,
           "y1": 0
          },
          {
           "children": 0,
           "depth": 2,
           "id": 33,
           "name": "Jersey Heritage",
           "parent": 5,
           "size": 0,
           "x0": 0,
           "x1": 63,
           "y0": 0,
           "y1": 0
          },
          {
           "children": 0,
           "depth": 2,
           "id": 34,
           "name": "Leicester Museums and Galleries",
           "parent": 5,
           "size": 0,
           "x0": 0,
           "x1": 63,
           "y0": 0,
           "y1": 0
          },
          {
           "children": 0,
           "depth": 2,
           "id": 35,
           "name": "Loughborough Carillon Tower and War Memorial Museum",
           "parent": 5,
           "size": 0,
           "x0": 0,
           "x1": 63,
           "y0": 0,
           "y1": 0
          },
          {
           "children": 0,
           "depth": 2,
           "id": 36,
           "name": "Norfolk Museums",
           "parent": 5,
           "size": 0,
           "x0": 0,
           "x1": 63,
           "y0": 0,
           "y1": 0
          },
          {
           "children": 0,
           "depth": 2,
           "id": 37,
           "name": "Nottingham Museums",
           "parent": 5,
           "size": 0,
           "x0": 0,
           "x1": 63,
           "y0": 0,
           "y1": 0
          },
          {
           "children": 0,
           "depth": 2,
           "id": 38,
           "name": "Poole Museum",
           "parent": 5,
           "size": 0,
           "x0": 0,
           "x1": 63,
           "y0": 0,
           "y1": 0
          },
          {
           "children": 0,
           "depth": 2,
           "id": 39,
           "name": "Teign Heritage Centre",
           "parent": 5,
           "size": 0,
           "x0": 0,
           "x1": 63,
           "y0": 0,
           "y1": 0
          },
          {
           "children": 0,
           "depth": 2,
           "id": 40,
           "name": "Science Museum Group",
           "parent": 5,
           "size": 0,
           "x0": 0,
           "x1": 63,
           "y0": 0,
           "y1": 0
          },
          {
           "children": 0,
           "depth": 2,
           "id": 41,
           "name": "Aberystwyth University School of Art Museum and Galleries",
           "parent": 6,
           "size": 0,
           "x0": 0,
           "x1": 960,
           "y0": 0,
           "y1": 0
          },
          {
           "children": 0,
           "depth": 2,
           "id": 42,
           "name": "University of Cambridge",
           "parent": 2,
           "size": 0,
           "x0": 0,
           "x1": 960,
           "y0": 0,
           "y1": 0
          },
          {
           "children": 0,
           "depth": 2,
           "id": 43,
           "name": "Amgueddfa Cymru (National Museum Wales)",
           "parent": 5,
           "size": 0,
           "x0": 0,
           "x1": 63,
           "y0": 0,
           "y1": 0
          },
          {
           "children": 0,
           "depth": 2,
           "id": 44,
           "name": "National Museums Northern Ireland",
           "parent": 5,
           "size": 0,
           "x0": 0,
           "x1": 63,
           "y0": 0,
           "y1": 0
          },
          {
           "children": 0,
           "depth": 2,
           "id": 45,
           "name": "Diving Museum",
           "parent": 5,
           "size": 0,
           "x0": 0,
           "x1": 63,
           "y0": 0,
           "y1": 0
          },
          {
           "children": 0,
           "depth": 2,
           "id": 46,
           "name": "Ravenglass Railway Museum",
           "parent": 5,
           "size": 0,
           "x0": 0,
           "x1": 63,
           "y0": 0,
           "y1": 0
          },
          {
           "children": 0,
           "depth": 2,
           "id": 47,
           "name": "Aberdeen Archives, Gallery and Museums",
           "parent": 4,
           "size": 0,
           "x0": 0,
           "x1": 960,
           "y0": 0,
           "y1": 0
          },
          {
           "children": 0,
           "depth": 2,
           "id": 48,
           "name": "Aldbourne Heritage Centre",
           "parent": 4,
           "size": 0,
           "x0": 0,
           "x1": 960,
           "y0": 0,
           "y1": 0
          },
          {
           "children": 0,
           "depth": 2,
           "id": 49,
           "name": "Armagh County Museum",
           "parent": 5,
           "size": 0,
           "x0": 0,
           "x1": 63,
           "y0": 0,
           "y1": 0
          },
          {
           "children": 0,
           "depth": 2,
           "id": 50,
           "name": "Jersey Heritage",
           "parent": 5,
           "size": 0,
           "x0": 0,
           "x1": 63,
           "y0": 0,
           "y1": 0
          },
          {
           "children": 0,
           "depth": 2,
           "id": 51,
           "name": "Leicester Museums and Galleries",
           "parent": 5,
           "size": 0,
           "x0": 0,
           "x1": 63,
           "y0": 0,
           "y1": 0
          },
          {
           "children": 0,
           "depth": 2,
           "id": 52,
           "name": "Loughborough Carillon Tower and War Memorial Museum",
           "parent": 5,
           "size": 0,
           "x0": 0,
           "x1": 63,
           "y0": 0,
           "y1": 0
          },
          {
           "children": 0,
           "depth": 2,
           "id": 53,
           "name": "Norfolk Museums",
           "parent": 5,
           "size": 0,
           "x0": 0,
           "x1": 63,
           "y0": 0,
           "y1": 0
          },
          {
           "children": 0,
           "depth": 2,
           "id": 54,
           "name": "Nottingham Museums",
           "parent": 5,
           "size": 0,
           "x0": 0,
           "x1": 63,
           "y0": 0,
           "y1": 0
          },
          {
           "children": 0,
           "depth": 2,
           "id": 55,
           "name": "Poole Museum",
           "parent": 5,
           "size": 0,
           "x0": 0,
           "x1": 63,
           "y0": 0,
           "y1": 0
          },
          {
           "children": 0,
           "depth": 2,
           "id": 56,
           "name": "Teign Heritage Centre",
           "parent": 5,
           "size": 0,
           "x0": 0,
           "x1": 63,
           "y0": 0,
           "y1": 0
          },
          {
           "children": 0,
           "depth": 2,
           "id": 57,
           "name": "Science Museum Group",
           "parent": 5,
           "size": 0,
           "x0": 0,
           "x1": 63,
           "y0": 0,
           "y1": 0
          }
         ]
        },
        {
         "name": "nodes",
         "source": "tree",
         "transform": [
          {
           "expr": "datum.children",
           "type": "filter"
          }
         ]
        },
        {
         "name": "leaves",
         "source": "tree",
         "transform": [
          {
           "expr": "!datum.children",
           "type": "filter"
          }
         ]
        },
        {
         "name": "large-leaves",
         "source": "tree",
         "transform": [
          {
           "expr": "!datum.children && datum.size > 2500000",
           "type": "filter"
          }
         ]
        },
        {
         "name": "total",
         "source": "tree",
         "transform": [
          {
           "as": [
            "totalsize"
           ],
           "fields": [
            "size"
           ],
           "ops": [
            "sum"
           ],
           "type": "aggregate"
          }
         ]
        },
        {
         "name": "percentages",
         "source": "tree",
         "transform": [
          {
           "fields": [
            "totalsize"
           ],
           "from": "total",
           "key": "id",
           "type": "lookup",
           "values": [
            "totalsize"
           ]
          },
          {
           "as": "nc_percent",
           "expr": "datum.name + ' ' + format((datum.size/datum.totalsize), ',.1%')",
           "type": "formula"
          }
         ]
        }
       ],
       "description": "An example of treemap layout for hierarchical data.",
       "height": 600,
       "marks": [
        {
         "encode": {
          "enter": {
           "fill": {
            "field": "name",
            "scale": "color"
           }
          },
          "update": {
           "x": {
            "field": "x0"
           },
           "x2": {
            "field": "x1"
           },
           "y": {
            "field": "y0"
           },
           "y2": {
            "field": "y1"
           }
          }
         },
         "from": {
          "data": "nodes"
         },
         "interactive": false,
         "type": "rect"
        },
        {
         "encode": {
          "enter": {
           "stroke": {
            "value": "#fff"
           },
           "tooltip": {
            "field": "name"
           }
          },
          "hover": {
           "fill": {
            "value": "#efb118"
           }
          },
          "update": {
           "fill": {
            "value": "transparent"
           },
           "x": {
            "field": "x0"
           },
           "x2": {
            "field": "x1"
           },
           "y": {
            "field": "y0"
           },
           "y2": {
            "field": "y1"
           }
          }
         },
         "from": {
          "data": "leaves"
         },
         "type": "rect"
        },
        {
         "encode": {
          "enter": {
           "align": {
            "value": "center"
           },
           "baseline": {
            "value": "middle"
           },
           "fill": {
            "value": "#000"
           },
           "fillOpacity": {
            "field": "depth",
            "scale": "opacity"
           },
           "font": {
            "value": "Helvetica Neue, Arial"
           },
           "fontSize": {
            "field": "depth",
            "scale": "size"
           },
           "text": {
            "field": "name"
           }
          },
          "update": {
           "x": {
            "signal": "0.5 * (datum.x0 + datum.x1)"
           },
           "y": {
            "signal": "0.5 * (datum.y0 + datum.y1)"
           }
          }
         },
         "from": {
          "data": "nodes"
         },
         "interactive": false,
         "type": "text"
        },
        {
         "encode": {
          "enter": {
           "align": {
            "value": "center"
           },
           "baseline": {
            "value": "middle"
           },
           "fill": {
            "value": "#000"
           },
           "fillOpacity": {
            "field": "depth",
            "scale": "opacity"
           },
           "font": {
            "value": "Helvetica Neue, Arial"
           },
           "fontSize": {
            "field": "size",
            "scale": "collection-size"
           },
           "text": {
            "field": "name"
           }
          },
          "update": {
           "text": {
            "signal": "split(datum.nc_percent, ' ')"
           },
           "x": {
            "signal": "0.5 * (datum.x0 + datum.x1)"
           },
           "y": {
            "signal": "0.46 * (datum.y0 + datum.y1)"
           }
          }
         },
         "from": {
          "data": "percentages"
         },
         "interactive": false,
         "type": "text"
        }
       ],
       "padding": 2.5,
       "scales": [
        {
         "domain": {
          "data": "nodes",
          "field": "name"
         },
         "name": "color",
         "range": [
          "#3182bd",
          "#6baed6",
          "#9ecae1",
          "#c6dbef",
          "#e6550d",
          "#fd8d3c",
          "#fdae6b",
          "#fdd0a2",
          "#31a354",
          "#74c476",
          "#a1d99b",
          "#c7e9c0",
          "#756bb1",
          "#9e9ac8",
          "#bcbddc",
          "#dadaeb",
          "#636363",
          "#969696",
          "#bdbdbd",
          "#d9d9d9"
         ],
         "type": "ordinal"
        },
        {
         "domain": [
          0,
          1,
          2,
          3
         ],
         "name": "size",
         "range": [
          0,
          0,
          0,
          0
         ],
         "type": "ordinal"
        },
        {
         "domain": [
          0,
          1000,
          10000,
          100000,
          1000000,
          2500000,
          5000000,
          20000000
         ],
         "name": "collection-size",
         "range": [
          0,
          0,
          7,
          12,
          14,
          16,
          18,
          20
         ],
         "type": "quantile"
        },
        {
         "domain": [
          0,
          1,
          2,
          3
         ],
         "name": "opacity",
         "range": [
          0,
          0,
          0.8,
          1
         ],
         "type": "ordinal"
        }
       ],
       "signals": [],
       "width": 960
      },
      "image/png": "[encoded data removed]"
     },
     "metadata": {
      "application/vnd.vegalite.v5+json": {
       "embed_options": {
        "actions": true
       }
      }
     },
     "output_type": "display_data"
    }
   ],
   "source": [
    "from IPython.display import display\n",
    "import json\n",
    "display({\"application/vnd.vega.v5+json\": json.loads(treemap_test_spec)}, \n",
    "         metadata={\n",
    "    \"application/vnd.vegalite.v5+json\": {\n",
    "        \"embed_options\": {\n",
    "            \"actions\": True\n",
    "        }\n",
    "    }\n",
    "},  raw=True)"
   ]
  },
  {
   "cell_type": "code",
   "execution_count": 7,
   "id": "2cc05a84-54dc-4b41-86a9-f3ef90d95c67",
   "metadata": {
    "editable": true,
    "slideshow": {
     "slide_type": ""
    },
    "tags": [
     "remove-cell"
    ]
   },
   "outputs": [],
   "source": [
    "from collections import Counter\n",
    "\n",
    "nn_tree_totals = artefacts_non_nature_df.groupby('type').sum(numeric_only=True)\n",
    "nn_tree_structure = [ { \"id\": 1, \"name\": \"National Collection\" } ]\n",
    "nn_tree_node_index = 2\n",
    "#tree_totals.columns\n",
    "nn_parent_map = {}\n",
    "for nn_row in nn_tree_totals.iterrows():\n",
    "  nn_parent_map[nn_row[0]] = nn_tree_node_index\n",
    "  nn_tree_structure.append({\"id\": nn_tree_node_index, \"name\": nn_row[0], \n",
    "                         \"parent\": 1})\n",
    "  nn_tree_node_index+= 1\n",
    "\n",
    "\n",
    "nn_institution_type_index = Counter()\n",
    "for nn_i, nn_row in artefacts_non_nature_df.iterrows():\n",
    "    nn_tree_structure.append({\"id\": nn_tree_node_index, \"name\": nn_row[\"institution\"], \n",
    "                           \"size\": int(nn_row[\"record_count\"]), \n",
    "                         \"parent\": nn_parent_map[nn_row['type']]})\n",
    "    nn_institution_type_index[nn_row[\"type\"]] += 1\n",
    "    nn_tree_node_index+=1"
   ]
  },
  {
   "cell_type": "code",
   "execution_count": 16,
   "id": "fec3e9ee-5858-4f29-83be-729fc9987352",
   "metadata": {
    "editable": true,
    "slideshow": {
     "slide_type": ""
    },
    "tags": [
     "remove-cell"
    ]
   },
   "outputs": [],
   "source": [
    "nn_treemap_test_spec = f\"\"\"\n",
    "{{\n",
    "  \"$schema\": \"https://vega.github.io/schema/vega/v5.json\",\n",
    "  \"description\": \"An example of treemap layout for hierarchical data.\",\n",
    "  \"width\": 960,\n",
    "  \"height\": 500,\n",
    "  \"padding\": 2.5,\n",
    "  \"autosize\": \"none\",\n",
    "  \"signals\": [\n",
    "  ],\n",
    "  \"data\": [\n",
    "    {{\n",
    "      \"name\": \"tree\",\n",
    "      \"values\": {json.dumps(nn_tree_structure)},\n",
    "      \"transform\": [\n",
    "        {{\"type\": \"stratify\", \"key\": \"id\", \"parentKey\": \"parent\"}},\n",
    "        {{\n",
    "          \"type\": \"treemap\",\n",
    "          \"field\": \"size\",\n",
    "          \"sort\": {{\"field\": \"value\"}},\n",
    "          \"round\": true,\n",
    "          \"method\": \"squarify\",\n",
    "          \"ratio\": 1.6,\n",
    "          \"size\": [{{\"signal\": \"width\"}}, {{\"signal\": \"height\"}}]\n",
    "        }}\n",
    "      ]\n",
    "    }},\n",
    "    {{\n",
    "      \"name\": \"nodes\",\n",
    "      \"source\": \"tree\",\n",
    "      \"transform\": [{{\"type\": \"filter\", \"expr\": \"datum.children\"}}]\n",
    "    }},\n",
    "    {{\n",
    "      \"name\": \"leaves\",\n",
    "      \"source\": \"tree\",\n",
    "      \"transform\": [{{\"type\": \"filter\", \"expr\": \"!datum.children\"}}]\n",
    "    }},\n",
    "    {{\n",
    "      \"name\": \"total\",\n",
    "      \"source\": \"tree\",\n",
    "      \"transform\": [{{\"type\": \"aggregate\", \"fields\": [\"size\"], \"ops\": [\"sum\"], \"as\": [\"totalsize\"]}}]\n",
    "      }},\n",
    "  {{\n",
    "      \"name\": \"percentages\",\n",
    "      \"source\": \"tree\",\n",
    "      \"transform\":  [\n",
    "      {{\"type\": \"formula\", \n",
    "      \"expr\": \"datum.name\", \"as\": \"nc_percent\"}}\n",
    "      ]\n",
    "    }},\n",
    "    {{\n",
    "      \"name\": \"large-leaves\",\n",
    "      \"source\": \"tree\",\n",
    "      \"transform\": [{{\"type\": \"filter\", \"expr\": \"!datum.children && datum.size > 2500000\"}}]\n",
    "    }}\n",
    "  ],\n",
    "  \"scales\": [\n",
    "    {{\n",
    "      \"name\": \"color\",\n",
    "      \"type\": \"ordinal\",\n",
    "      \"domain\": {{\"data\": \"nodes\", \"field\": \"name\"}},\n",
    "      \"range\": [\n",
    "        \"#3182bd\",\n",
    "        \"#6baed6\",\n",
    "        \"#9ecae1\",\n",
    "        \"#c6dbef\",\n",
    "        \"#e6550d\",\n",
    "        \"#fd8d3c\",\n",
    "        \"#fdae6b\",\n",
    "        \"#fdd0a2\",\n",
    "        \"#31a354\",\n",
    "        \"#74c476\",\n",
    "        \"#a1d99b\",\n",
    "        \"#c7e9c0\",\n",
    "        \"#756bb1\",\n",
    "        \"#9e9ac8\",\n",
    "        \"#bcbddc\",\n",
    "        \"#dadaeb\",\n",
    "        \"#636363\",\n",
    "        \"#969696\",\n",
    "        \"#bdbdbd\",\n",
    "        \"#d9d9d9\"\n",
    "      ]\n",
    "    }},\n",
    "    {{\n",
    "      \"name\": \"size\",\n",
    "      \"type\": \"ordinal\",\n",
    "      \"domain\": [0, 1, 2, 3],\n",
    "      \"range\": [0, 20, 18, 14]\n",
    "    }},\n",
    "    {{\n",
    "      \"name\": \"collection-size\",\n",
    "      \"type\": \"quantile\",\n",
    "      \"domain\": [0, 100, 10000, 100000, 1000000, 2500000, 5000000, 20000000],\n",
    "      \"range\": [2, 4, 7, 12, 14, 16, 18, 20]\n",
    "    }},\n",
    "    {{\n",
    "      \"name\": \"opacity\",\n",
    "      \"type\": \"ordinal\",\n",
    "      \"domain\": [0, 1, 2, 3],\n",
    "      \"range\": [0, 0, 0.6, 1]\n",
    "    }}\n",
    "  ],\n",
    "  \"marks\": [\n",
    "    {{\n",
    "      \"type\": \"rect\",\n",
    "      \"from\": {{\"data\": \"nodes\"}},\n",
    "      \"interactive\": false,\n",
    "      \"encode\": {{\n",
    "        \"enter\": {{\"fill\": {{\"scale\": \"color\", \"field\": \"name\"}} }},\n",
    "        \"update\": {{\n",
    "          \"x\": {{\"field\": \"x0\"}},\n",
    "          \"y\": {{\"field\": \"y0\"}},\n",
    "          \"x2\": {{\"field\": \"x1\"}},\n",
    "          \"y2\": {{\"field\": \"y1\"}}\n",
    "        }}\n",
    "      }}\n",
    "    }},\n",
    "    {{\n",
    "      \"type\": \"rect\",\n",
    "      \"from\": {{\"data\": \"leaves\"}},\n",
    "      \"encode\": {{\n",
    "        \"enter\": {{\"stroke\": {{\"value\": \"#fff\"}},\n",
    "                  \"tooltip\": {{ \"field\": \"name\" }}\n",
    "        }},\n",
    "        \"update\": {{\n",
    "          \"x\": {{\"field\": \"x0\"}},\n",
    "          \"y\": {{\"field\": \"y0\"}},\n",
    "          \"x2\": {{\"field\": \"x1\"}},\n",
    "          \"y2\": {{\"field\": \"y1\"}},\n",
    "          \"fill\": {{\"value\": \"transparent\"}}\n",
    "        }},\n",
    "        \"hover\": {{\"fill\": {{\"value\": \"#efb118\"}} }}\n",
    "      }}\n",
    "    }},\n",
    "    {{\n",
    "      \"type\": \"text\",\n",
    "      \"from\": {{\"data\": \"nodes\"}},\n",
    "      \"interactive\": false,\n",
    "      \"encode\": {{\n",
    "        \"enter\": {{\n",
    "          \"font\": {{\"value\": \"Helvetica Neue, Arial\"}},\n",
    "          \"align\": {{\"value\": \"center\"}},\n",
    "          \"baseline\": {{\"value\": \"middle\"}},\n",
    "          \"fill\": {{\"value\": \"#000\"}},\n",
    "          \"text\": {{\"field\": \"name\"}},\n",
    "          \"fontSize\": {{\"scale\": \"size\", \"field\": \"depth\"}},\n",
    "          \"fillOpacity\": {{\"scale\": \"opacity\", \"field\": \"depth\"}}\n",
    "        }},\n",
    "        \"update\": {{\n",
    "          \"x\": {{\"signal\": \"0.5 * (datum.x0 + datum.x1)\"}},\n",
    "          \"y\": {{\"signal\": \"0.5 * (datum.y0 + datum.y1)\"}}\n",
    "        }}\n",
    "      }}\n",
    "    }},  \n",
    "    {{\n",
    "      \"type\": \"text\",\n",
    "      \"from\": {{\"data\": \"percentages\"}},\n",
    "      \"interactive\": false,\n",
    "      \"encode\": {{\n",
    "        \"enter\": {{\n",
    "          \"font\": {{\"value\": \"Helvetica Neue, Arial\"}},\n",
    "          \"align\": {{\"value\": \"center\"}},\n",
    "          \"baseline\": {{\"value\": \"middle\"}},\n",
    "          \"fill\": {{\"value\": \"#000\"}},\n",
    "          \"text\": {{\"field\": \"name\"}},\n",
    "          \"fontSize\": {{\"scale\": \"collection-size\", \"field\": \"size\"}},\n",
    "          \"fillOpacity\": {{\"scale\": \"opacity\", \"field\": \"depth\"}}\n",
    "        }},\n",
    "        \"update\": {{\n",
    "          \"x\": {{\"signal\": \"0.5 * (datum.x0 + datum.x1)\"}},\n",
    "          \"y\": {{\"signal\": \"0.46 * (datum.y0 + datum.y1)\"}},\n",
    "          \"text\": {{\"signal\": \"split(datum.nc_percent, ' ')\"}}\n",
    "        }}\n",
    "      }}\n",
    "    }}\n",
    "  ]\n",
    "}}\n",
    "\"\"\""
   ]
  },
  {
   "cell_type": "markdown",
   "id": "063ecb4f-f8cd-4ecc-bc24-767fcc352705",
   "metadata": {
    "editable": true,
    "slideshow": {
     "slide_type": ""
    },
    "tags": [
     "remove-cell"
    ]
   },
   "source": [
    "#### National Collection Overview (excluding specimen holding organisations)\n",
    "\n",
    "The scale of collections held by natural history holding organisations can overwhelm data visualisations of overall UK collections, so in this area chart below they have been removed to allow more visibility of other collections."
   ]
  },
  {
   "cell_type": "code",
   "execution_count": 17,
   "id": "5303cbbc-adcb-4515-9f5c-30a9d4a08e6e",
   "metadata": {
    "editable": true,
    "slideshow": {
     "slide_type": ""
    },
    "tags": [
     "remove-cell"
    ]
   },
   "outputs": [
    {
     "data": {
      "application/vnd.vega.v5+json": {
       "$schema": "https://vega.github.io/schema/vega/v5.json",
       "autosize": "none",
       "data": [
        {
         "name": "tree",
         "transform": [
          {
           "key": "id",
           "parentKey": "parent",
           "type": "stratify"
          },
          {
           "field": "size",
           "method": "squarify",
           "ratio": 1.6,
           "round": true,
           "size": [
            {
             "signal": "width"
            },
            {
             "signal": "height"
            }
           ],
           "sort": {
            "field": "value"
           },
           "type": "treemap"
          }
         ],
         "values": [
          {
           "children": 5,
           "depth": 0,
           "id": 1,
           "name": "National Collection",
           "x0": 0,
           "x1": 960,
           "y0": 0,
           "y1": 500
          },
          {
           "children": 1,
           "depth": 1,
           "id": 2,
           "name": "archive",
           "parent": 1,
           "x0": 0,
           "x1": 960,
           "y0": 0,
           "y1": 0
          },
          {
           "children": 1,
           "depth": 1,
           "id": 3,
           "name": "library",
           "parent": 1,
           "x0": 0,
           "x1": 960,
           "y0": 0,
           "y1": 0
          },
          {
           "children": 4,
           "depth": 1,
           "id": 4,
           "name": "mixed",
           "parent": 1,
           "x0": 0,
           "x1": 960,
           "y0": 0,
           "y1": 0
          },
          {
           "children": 43,
           "depth": 1,
           "id": 5,
           "name": "museum",
           "parent": 1,
           "x0": 0,
           "x1": 960,
           "y0": 0,
           "y1": 500
          },
          {
           "children": 2,
           "depth": 1,
           "id": 6,
           "name": "university",
           "parent": 1,
           "x0": 0,
           "x1": 960,
           "y0": 0,
           "y1": 0
          },
          {
           "children": 0,
           "depth": 2,
           "id": 7,
           "name": "Aberystwyth University School of Art Museum and Galleries",
           "parent": 5,
           "size": 0,
           "x0": 0,
           "x1": 63,
           "y0": 0,
           "y1": 0
          },
          {
           "children": 0,
           "depth": 2,
           "id": 8,
           "name": "University of Cambridge",
           "parent": 5,
           "size": 275225,
           "x0": 63,
           "x1": 343,
           "y0": 286,
           "y1": 500
          },
          {
           "children": 0,
           "depth": 2,
           "id": 9,
           "name": "Amgueddfa Cymru (National Museum Wales)",
           "parent": 5,
           "size": 0,
           "x0": 0,
           "x1": 63,
           "y0": 0,
           "y1": 0
          },
          {
           "children": 0,
           "depth": 2,
           "id": 10,
           "name": "National Museums Northern Ireland",
           "parent": 5,
           "size": 46618,
           "x0": 0,
           "x1": 63,
           "y0": 339,
           "y1": 500
          },
          {
           "children": 0,
           "depth": 2,
           "id": 11,
           "name": "Diving Museum",
           "parent": 5,
           "size": 8934,
           "x0": 0,
           "x1": 63,
           "y0": 67,
           "y1": 98
          },
          {
           "children": 0,
           "depth": 2,
           "id": 12,
           "name": "Ravenglass Railway Museum",
           "parent": 5,
           "size": 8195,
           "x0": 0,
           "x1": 63,
           "y0": 39,
           "y1": 67
          },
          {
           "children": 0,
           "depth": 2,
           "id": 13,
           "name": "Aberdeen Archives, Gallery and Museums",
           "parent": 5,
           "size": 149515,
           "x0": 63,
           "x1": 343,
           "y0": 0,
           "y1": 116
          },
          {
           "children": 0,
           "depth": 2,
           "id": 14,
           "name": "Aldbourne Heritage Centre",
           "parent": 5,
           "size": 3728,
           "x0": 0,
           "x1": 63,
           "y0": 11,
           "y1": 24
          },
          {
           "children": 0,
           "depth": 2,
           "id": 15,
           "name": "Armagh County Museum",
           "parent": 5,
           "size": 14258,
           "x0": 0,
           "x1": 63,
           "y0": 98,
           "y1": 147
          },
          {
           "children": 0,
           "depth": 2,
           "id": 16,
           "name": "Jersey Heritage",
           "parent": 5,
           "size": 219359,
           "x0": 63,
           "x1": 343,
           "y0": 116,
           "y1": 286
          },
          {
           "children": 0,
           "depth": 2,
           "id": 17,
           "name": "Leicester Museums and Galleries",
           "parent": 5,
           "size": 20719,
           "x0": 0,
           "x1": 63,
           "y0": 147,
           "y1": 218
          },
          {
           "children": 0,
           "depth": 2,
           "id": 18,
           "name": "Loughborough Carillon Tower and War Memorial Museum",
           "parent": 5,
           "size": 4266,
           "x0": 0,
           "x1": 63,
           "y0": 24,
           "y1": 39
          },
          {
           "children": 0,
           "depth": 2,
           "id": 19,
           "name": "Norfolk Museums",
           "parent": 5,
           "size": 443754,
           "x0": 343,
           "x1": 740,
           "y0": 0,
           "y1": 243
          },
          {
           "children": 0,
           "depth": 2,
           "id": 20,
           "name": "Nottingham Museums",
           "parent": 5,
           "size": 506639,
           "x0": 740,
           "x1": 960,
           "y0": 0,
           "y1": 500
          },
          {
           "children": 0,
           "depth": 2,
           "id": 21,
           "name": "Poole Museum",
           "parent": 5,
           "size": 35171,
           "x0": 0,
           "x1": 63,
           "y0": 218,
           "y1": 339
          },
          {
           "children": 0,
           "depth": 2,
           "id": 22,
           "name": "Teign Heritage Centre",
           "parent": 5,
           "size": 3324,
           "x0": 0,
           "x1": 63,
           "y0": 0,
           "y1": 11
          },
          {
           "children": 0,
           "depth": 2,
           "id": 23,
           "name": "Science Museum Group",
           "parent": 5,
           "size": 468063,
           "x0": 343,
           "x1": 740,
           "y0": 243,
           "y1": 500
          },
          {
           "children": 0,
           "depth": 2,
           "id": 24,
           "name": "Aberystwyth University School of Art Museum and Galleries",
           "parent": 6,
           "size": 0,
           "x0": 0,
           "x1": 960,
           "y0": 0,
           "y1": 0
          },
          {
           "children": 0,
           "depth": 2,
           "id": 25,
           "name": "University of Cambridge",
           "parent": 3,
           "size": 0,
           "x0": 0,
           "x1": 960,
           "y0": 0,
           "y1": 0
          },
          {
           "children": 0,
           "depth": 2,
           "id": 26,
           "name": "Amgueddfa Cymru (National Museum Wales)",
           "parent": 5,
           "size": 0,
           "x0": 0,
           "x1": 63,
           "y0": 0,
           "y1": 0
          },
          {
           "children": 0,
           "depth": 2,
           "id": 27,
           "name": "National Museums Northern Ireland",
           "parent": 5,
           "size": 0,
           "x0": 0,
           "x1": 63,
           "y0": 0,
           "y1": 0
          },
          {
           "children": 0,
           "depth": 2,
           "id": 28,
           "name": "Diving Museum",
           "parent": 5,
           "size": 0,
           "x0": 0,
           "x1": 63,
           "y0": 0,
           "y1": 0
          },
          {
           "children": 0,
           "depth": 2,
           "id": 29,
           "name": "Ravenglass Railway Museum",
           "parent": 5,
           "size": 0,
           "x0": 0,
           "x1": 63,
           "y0": 0,
           "y1": 0
          },
          {
           "children": 0,
           "depth": 2,
           "id": 30,
           "name": "Aberdeen Archives, Gallery and Museums",
           "parent": 4,
           "size": 0,
           "x0": 0,
           "x1": 960,
           "y0": 0,
           "y1": 0
          },
          {
           "children": 0,
           "depth": 2,
           "id": 31,
           "name": "Aldbourne Heritage Centre",
           "parent": 4,
           "size": 0,
           "x0": 0,
           "x1": 960,
           "y0": 0,
           "y1": 0
          },
          {
           "children": 0,
           "depth": 2,
           "id": 32,
           "name": "Armagh County Museum",
           "parent": 5,
           "size": 0,
           "x0": 0,
           "x1": 63,
           "y0": 0,
           "y1": 0
          },
          {
           "children": 0,
           "depth": 2,
           "id": 33,
           "name": "Jersey Heritage",
           "parent": 5,
           "size": 0,
           "x0": 0,
           "x1": 63,
           "y0": 0,
           "y1": 0
          },
          {
           "children": 0,
           "depth": 2,
           "id": 34,
           "name": "Leicester Museums and Galleries",
           "parent": 5,
           "size": 0,
           "x0": 0,
           "x1": 63,
           "y0": 0,
           "y1": 0
          },
          {
           "children": 0,
           "depth": 2,
           "id": 35,
           "name": "Loughborough Carillon Tower and War Memorial Museum",
           "parent": 5,
           "size": 0,
           "x0": 0,
           "x1": 63,
           "y0": 0,
           "y1": 0
          },
          {
           "children": 0,
           "depth": 2,
           "id": 36,
           "name": "Norfolk Museums",
           "parent": 5,
           "size": 0,
           "x0": 0,
           "x1": 63,
           "y0": 0,
           "y1": 0
          },
          {
           "children": 0,
           "depth": 2,
           "id": 37,
           "name": "Nottingham Museums",
           "parent": 5,
           "size": 0,
           "x0": 0,
           "x1": 63,
           "y0": 0,
           "y1": 0
          },
          {
           "children": 0,
           "depth": 2,
           "id": 38,
           "name": "Poole Museum",
           "parent": 5,
           "size": 0,
           "x0": 0,
           "x1": 63,
           "y0": 0,
           "y1": 0
          },
          {
           "children": 0,
           "depth": 2,
           "id": 39,
           "name": "Teign Heritage Centre",
           "parent": 5,
           "size": 0,
           "x0": 0,
           "x1": 63,
           "y0": 0,
           "y1": 0
          },
          {
           "children": 0,
           "depth": 2,
           "id": 40,
           "name": "Science Museum Group",
           "parent": 5,
           "size": 0,
           "x0": 0,
           "x1": 63,
           "y0": 0,
           "y1": 0
          },
          {
           "children": 0,
           "depth": 2,
           "id": 41,
           "name": "Aberystwyth University School of Art Museum and Galleries",
           "parent": 6,
           "size": 0,
           "x0": 0,
           "x1": 960,
           "y0": 0,
           "y1": 0
          },
          {
           "children": 0,
           "depth": 2,
           "id": 42,
           "name": "University of Cambridge",
           "parent": 2,
           "size": 0,
           "x0": 0,
           "x1": 960,
           "y0": 0,
           "y1": 0
          },
          {
           "children": 0,
           "depth": 2,
           "id": 43,
           "name": "Amgueddfa Cymru (National Museum Wales)",
           "parent": 5,
           "size": 0,
           "x0": 0,
           "x1": 63,
           "y0": 0,
           "y1": 0
          },
          {
           "children": 0,
           "depth": 2,
           "id": 44,
           "name": "National Museums Northern Ireland",
           "parent": 5,
           "size": 0,
           "x0": 0,
           "x1": 63,
           "y0": 0,
           "y1": 0
          },
          {
           "children": 0,
           "depth": 2,
           "id": 45,
           "name": "Diving Museum",
           "parent": 5,
           "size": 0,
           "x0": 0,
           "x1": 63,
           "y0": 0,
           "y1": 0
          },
          {
           "children": 0,
           "depth": 2,
           "id": 46,
           "name": "Ravenglass Railway Museum",
           "parent": 5,
           "size": 0,
           "x0": 0,
           "x1": 63,
           "y0": 0,
           "y1": 0
          },
          {
           "children": 0,
           "depth": 2,
           "id": 47,
           "name": "Aberdeen Archives, Gallery and Museums",
           "parent": 4,
           "size": 0,
           "x0": 0,
           "x1": 960,
           "y0": 0,
           "y1": 0
          },
          {
           "children": 0,
           "depth": 2,
           "id": 48,
           "name": "Aldbourne Heritage Centre",
           "parent": 4,
           "size": 0,
           "x0": 0,
           "x1": 960,
           "y0": 0,
           "y1": 0
          },
          {
           "children": 0,
           "depth": 2,
           "id": 49,
           "name": "Armagh County Museum",
           "parent": 5,
           "size": 0,
           "x0": 0,
           "x1": 63,
           "y0": 0,
           "y1": 0
          },
          {
           "children": 0,
           "depth": 2,
           "id": 50,
           "name": "Jersey Heritage",
           "parent": 5,
           "size": 0,
           "x0": 0,
           "x1": 63,
           "y0": 0,
           "y1": 0
          },
          {
           "children": 0,
           "depth": 2,
           "id": 51,
           "name": "Leicester Museums and Galleries",
           "parent": 5,
           "size": 0,
           "x0": 0,
           "x1": 63,
           "y0": 0,
           "y1": 0
          },
          {
           "children": 0,
           "depth": 2,
           "id": 52,
           "name": "Loughborough Carillon Tower and War Memorial Museum",
           "parent": 5,
           "size": 0,
           "x0": 0,
           "x1": 63,
           "y0": 0,
           "y1": 0
          },
          {
           "children": 0,
           "depth": 2,
           "id": 53,
           "name": "Norfolk Museums",
           "parent": 5,
           "size": 0,
           "x0": 0,
           "x1": 63,
           "y0": 0,
           "y1": 0
          },
          {
           "children": 0,
           "depth": 2,
           "id": 54,
           "name": "Nottingham Museums",
           "parent": 5,
           "size": 0,
           "x0": 0,
           "x1": 63,
           "y0": 0,
           "y1": 0
          },
          {
           "children": 0,
           "depth": 2,
           "id": 55,
           "name": "Poole Museum",
           "parent": 5,
           "size": 0,
           "x0": 0,
           "x1": 63,
           "y0": 0,
           "y1": 0
          },
          {
           "children": 0,
           "depth": 2,
           "id": 56,
           "name": "Teign Heritage Centre",
           "parent": 5,
           "size": 0,
           "x0": 0,
           "x1": 63,
           "y0": 0,
           "y1": 0
          },
          {
           "children": 0,
           "depth": 2,
           "id": 57,
           "name": "Science Museum Group",
           "parent": 5,
           "size": 0,
           "x0": 0,
           "x1": 63,
           "y0": 0,
           "y1": 0
          }
         ]
        },
        {
         "name": "nodes",
         "source": "tree",
         "transform": [
          {
           "expr": "datum.children",
           "type": "filter"
          }
         ]
        },
        {
         "name": "leaves",
         "source": "tree",
         "transform": [
          {
           "expr": "!datum.children",
           "type": "filter"
          }
         ]
        },
        {
         "name": "total",
         "source": "tree",
         "transform": [
          {
           "as": [
            "totalsize"
           ],
           "fields": [
            "size"
           ],
           "ops": [
            "sum"
           ],
           "type": "aggregate"
          }
         ]
        },
        {
         "name": "percentages",
         "source": "tree",
         "transform": [
          {
           "as": "nc_percent",
           "expr": "datum.name",
           "type": "formula"
          }
         ]
        },
        {
         "name": "large-leaves",
         "source": "tree",
         "transform": [
          {
           "expr": "!datum.children && datum.size > 2500000",
           "type": "filter"
          }
         ]
        }
       ],
       "description": "An example of treemap layout for hierarchical data.",
       "height": 500,
       "marks": [
        {
         "encode": {
          "enter": {
           "fill": {
            "field": "name",
            "scale": "color"
           }
          },
          "update": {
           "x": {
            "field": "x0"
           },
           "x2": {
            "field": "x1"
           },
           "y": {
            "field": "y0"
           },
           "y2": {
            "field": "y1"
           }
          }
         },
         "from": {
          "data": "nodes"
         },
         "interactive": false,
         "type": "rect"
        },
        {
         "encode": {
          "enter": {
           "stroke": {
            "value": "#fff"
           },
           "tooltip": {
            "field": "name"
           }
          },
          "hover": {
           "fill": {
            "value": "#efb118"
           }
          },
          "update": {
           "fill": {
            "value": "transparent"
           },
           "x": {
            "field": "x0"
           },
           "x2": {
            "field": "x1"
           },
           "y": {
            "field": "y0"
           },
           "y2": {
            "field": "y1"
           }
          }
         },
         "from": {
          "data": "leaves"
         },
         "type": "rect"
        },
        {
         "encode": {
          "enter": {
           "align": {
            "value": "center"
           },
           "baseline": {
            "value": "middle"
           },
           "fill": {
            "value": "#000"
           },
           "fillOpacity": {
            "field": "depth",
            "scale": "opacity"
           },
           "font": {
            "value": "Helvetica Neue, Arial"
           },
           "fontSize": {
            "field": "depth",
            "scale": "size"
           },
           "text": {
            "field": "name"
           }
          },
          "update": {
           "x": {
            "signal": "0.5 * (datum.x0 + datum.x1)"
           },
           "y": {
            "signal": "0.5 * (datum.y0 + datum.y1)"
           }
          }
         },
         "from": {
          "data": "nodes"
         },
         "interactive": false,
         "type": "text"
        },
        {
         "encode": {
          "enter": {
           "align": {
            "value": "center"
           },
           "baseline": {
            "value": "middle"
           },
           "fill": {
            "value": "#000"
           },
           "fillOpacity": {
            "field": "depth",
            "scale": "opacity"
           },
           "font": {
            "value": "Helvetica Neue, Arial"
           },
           "fontSize": {
            "field": "size",
            "scale": "collection-size"
           },
           "text": {
            "field": "name"
           }
          },
          "update": {
           "text": {
            "signal": "split(datum.nc_percent, ' ')"
           },
           "x": {
            "signal": "0.5 * (datum.x0 + datum.x1)"
           },
           "y": {
            "signal": "0.46 * (datum.y0 + datum.y1)"
           }
          }
         },
         "from": {
          "data": "percentages"
         },
         "interactive": false,
         "type": "text"
        }
       ],
       "padding": 2.5,
       "scales": [
        {
         "domain": {
          "data": "nodes",
          "field": "name"
         },
         "name": "color",
         "range": [
          "#3182bd",
          "#6baed6",
          "#9ecae1",
          "#c6dbef",
          "#e6550d",
          "#fd8d3c",
          "#fdae6b",
          "#fdd0a2",
          "#31a354",
          "#74c476",
          "#a1d99b",
          "#c7e9c0",
          "#756bb1",
          "#9e9ac8",
          "#bcbddc",
          "#dadaeb",
          "#636363",
          "#969696",
          "#bdbdbd",
          "#d9d9d9"
         ],
         "type": "ordinal"
        },
        {
         "domain": [
          0,
          1,
          2,
          3
         ],
         "name": "size",
         "range": [
          0,
          20,
          18,
          14
         ],
         "type": "ordinal"
        },
        {
         "domain": [
          0,
          100,
          10000,
          100000,
          1000000,
          2500000,
          5000000,
          20000000
         ],
         "name": "collection-size",
         "range": [
          2,
          4,
          7,
          12,
          14,
          16,
          18,
          20
         ],
         "type": "quantile"
        },
        {
         "domain": [
          0,
          1,
          2,
          3
         ],
         "name": "opacity",
         "range": [
          0,
          0,
          0.6,
          1
         ],
         "type": "ordinal"
        }
       ],
       "signals": [],
       "width": 960
      },
      "image/png": "[encoded data removed]"
     },
     "metadata": {
      "application/vnd.vegalite.v5+json": {
       "embed_options": {
        "actions": false,
        "hover": true
       }
      }
     },
     "output_type": "display_data"
    }
   ],
   "source": [
    "from IPython.display import display\n",
    "import json\n",
    "display({\"application/vnd.vega.v5+json\": json.loads(nn_treemap_test_spec)}, \n",
    "        metadata={\n",
    "    \"application/vnd.vegalite.v5+json\": {\n",
    "        \"embed_options\": {\n",
    "            \"actions\": False,\n",
    "            \"hover\": True\n",
    "        }\n",
    "    }\n",
    "},   raw=True)"
   ]
  }
 ],
 "metadata": {
  "kernelspec": {
   "display_name": "Python 3 (ipykernel)",
   "language": "python",
   "name": "python3"
  },
  "language_info": {
   "codemirror_mode": {
    "name": "ipython",
    "version": 3
   },
   "file_extension": ".py",
   "mimetype": "text/x-python",
   "name": "python",
   "nbconvert_exporter": "python",
   "pygments_lexer": "ipython3",
   "version": "3.9.18"
  }
 },
 "nbformat": 4,
 "nbformat_minor": 5
}
